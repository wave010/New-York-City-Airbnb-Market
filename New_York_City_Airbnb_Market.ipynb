{
  "nbformat": 4,
  "nbformat_minor": 0,
  "metadata": {
    "colab": {
      "provenance": [],
      "authorship_tag": "ABX9TyPuZCnUXEuopnJFsin/YrP5",
      "include_colab_link": true
    },
    "kernelspec": {
      "name": "python3",
      "display_name": "Python 3"
    },
    "language_info": {
      "name": "python"
    }
  },
  "cells": [
    {
      "cell_type": "markdown",
      "metadata": {
        "id": "view-in-github",
        "colab_type": "text"
      },
      "source": [
        "<a href=\"https://colab.research.google.com/github/wave010/New-York-City-Airbnb-Market/blob/main/New_York_City_Airbnb_Market.ipynb\" target=\"_parent\"><img src=\"https://colab.research.google.com/assets/colab-badge.svg\" alt=\"Open In Colab\"/></a>"
      ]
    },
    {
      "cell_type": "markdown",
      "source": [
        "# **New York City Airbnb Market**\n",
        "\n",
        "dataset : https://www.kaggle.com/datasets/ebrahimelgazar/new-york-city-airbnb-market\n",
        "\n"
      ],
      "metadata": {
        "id": "gbXRfEWCsZyd"
      }
    },
    {
      "cell_type": "markdown",
      "source": [
        "**Airbnb** คือ ระบบการจองห้องพักในประเทศต่างๆ ผ่านโลกออนไลน์ โดยผู้ที่ต้องการจองห้องพัก สามารถติดต่อกับผู้ให้บริการที่พักผ่านระบบอินเทอร์เนตได้โดยตรง เช่น ถ้าคุณมีห้องคอนโดว่างๆอยู่ ไม่ได้ใช้ในการอยู่อาศัย หรือ ใครคนอื่นๆเช้าในระยะยาว คุณสามารถสมัครเพื่อเป็นโฮสใน Airbnb ได้ เมื่อมีผู้ที่ต้องการเดินทางมาที่เมืองที่คุณอยู่ แต่อาจจะไม่ต้องการพักในโรงแรม จะสามารถเข้ามาดูข้อมูลในเว็บไซต์ รวมทั้งแอฟลิเคชั่นของ Airbnb ได้ และสามารถติดต่อพุดคุยกับคุณได้โดยตรง เพื่อกำหนดวันที่จะเข้ามาพักได้ด้วยตัวเอง [อ่นเพิ่มเติม](https://www.ananda.co.th/blog/thegenc/start-up-airbnb/)"
      ],
      "metadata": {
        "id": "oYOqoRA8-QcQ"
      }
    },
    {
      "cell_type": "markdown",
      "source": [
        "##***Get data***"
      ],
      "metadata": {
        "id": "HJyDTNX4thE3"
      }
    },
    {
      "cell_type": "code",
      "execution_count": 1,
      "metadata": {
        "colab": {
          "base_uri": "https://localhost:8080/"
        },
        "id": "lPbu2BYPsXGO",
        "outputId": "a5197579-a5eb-4582-c643-0bd5fdbc364a"
      },
      "outputs": [
        {
          "output_type": "stream",
          "name": "stdout",
          "text": [
            "/usr/local/lib/python3.8/dist-packages/gdown/cli.py:127: FutureWarning: Option `--id` was deprecated in version 4.3.1 and will be removed in 5.0. You don't need to pass it anymore to use a file ID.\n",
            "  warnings.warn(\n",
            "Downloading...\n",
            "From: https://drive.google.com/uc?id=1kg5NnZTtptGrCK8DzYSkl3yo1IXLmwU-\n",
            "To: /content/NewYorkCity_AirbnbMarket.zip\n",
            "100% 1.43M/1.43M [00:00<00:00, 95.6MB/s]\n"
          ]
        }
      ],
      "source": [
        "!gdown --id 1kg5NnZTtptGrCK8DzYSkl3yo1IXLmwU- #download data file in google drive"
      ]
    },
    {
      "cell_type": "code",
      "source": [
        "!unzip NewYorkCity_AirbnbMarket.zip # Extract file zip"
      ],
      "metadata": {
        "colab": {
          "base_uri": "https://localhost:8080/"
        },
        "id": "BVIneynLuMyL",
        "outputId": "41fcba9f-1555-4f26-ee59-0a24d4a953e5"
      },
      "execution_count": 2,
      "outputs": [
        {
          "output_type": "stream",
          "name": "stdout",
          "text": [
            "Archive:  NewYorkCity_AirbnbMarket.zip\n",
            "  inflating: airbnb_last_review.csv  \n",
            "  inflating: airbnb_price.csv        \n",
            "  inflating: airbnb_room_type.xlsx   \n"
          ]
        }
      ]
    },
    {
      "cell_type": "markdown",
      "source": [
        "**read file**"
      ],
      "metadata": {
        "id": "Q2K0ZlcjwAkf"
      }
    },
    {
      "cell_type": "code",
      "source": [
        "import pandas as pd\n",
        "\n",
        "# read csv file to DataFrame\n",
        "review = pd.read_csv(\"airbnb_last_review.csv\")\n",
        "price = pd.read_csv(\"airbnb_price.csv\")\n",
        "\n",
        "# read excel file to DataFrame\n",
        "roomType = pd.read_excel(\"airbnb_room_type.xlsx\",\"airbnb_room_type\")"
      ],
      "metadata": {
        "id": "CF7WrPvlu8xw"
      },
      "execution_count": 57,
      "outputs": []
    },
    {
      "cell_type": "code",
      "source": [
        "print(review.shape) # review DataFrame\n",
        "review.head()"
      ],
      "metadata": {
        "colab": {
          "base_uri": "https://localhost:8080/",
          "height": 223
        },
        "id": "jHXHjzr3wFXE",
        "outputId": "9062d7a4-9687-460f-e342-b74403279061"
      },
      "execution_count": 58,
      "outputs": [
        {
          "output_type": "stream",
          "name": "stdout",
          "text": [
            "(25209, 3)\n"
          ]
        },
        {
          "output_type": "execute_result",
          "data": {
            "text/plain": [
              "    listing_id    host_name   last_review\n",
              "0         2595     Jennifer   May 21 2019\n",
              "1         3831  LisaRoxanne  July 05 2019\n",
              "2         5099        Chris  June 22 2019\n",
              "3         5178     Shunichi  June 24 2019\n",
              "4         5238          Ben  June 09 2019"
            ],
            "text/html": [
              "\n",
              "  <div id=\"df-b9dafcd1-cd9c-4b43-8a3d-57ffd9dfdd81\">\n",
              "    <div class=\"colab-df-container\">\n",
              "      <div>\n",
              "<style scoped>\n",
              "    .dataframe tbody tr th:only-of-type {\n",
              "        vertical-align: middle;\n",
              "    }\n",
              "\n",
              "    .dataframe tbody tr th {\n",
              "        vertical-align: top;\n",
              "    }\n",
              "\n",
              "    .dataframe thead th {\n",
              "        text-align: right;\n",
              "    }\n",
              "</style>\n",
              "<table border=\"1\" class=\"dataframe\">\n",
              "  <thead>\n",
              "    <tr style=\"text-align: right;\">\n",
              "      <th></th>\n",
              "      <th>listing_id</th>\n",
              "      <th>host_name</th>\n",
              "      <th>last_review</th>\n",
              "    </tr>\n",
              "  </thead>\n",
              "  <tbody>\n",
              "    <tr>\n",
              "      <th>0</th>\n",
              "      <td>2595</td>\n",
              "      <td>Jennifer</td>\n",
              "      <td>May 21 2019</td>\n",
              "    </tr>\n",
              "    <tr>\n",
              "      <th>1</th>\n",
              "      <td>3831</td>\n",
              "      <td>LisaRoxanne</td>\n",
              "      <td>July 05 2019</td>\n",
              "    </tr>\n",
              "    <tr>\n",
              "      <th>2</th>\n",
              "      <td>5099</td>\n",
              "      <td>Chris</td>\n",
              "      <td>June 22 2019</td>\n",
              "    </tr>\n",
              "    <tr>\n",
              "      <th>3</th>\n",
              "      <td>5178</td>\n",
              "      <td>Shunichi</td>\n",
              "      <td>June 24 2019</td>\n",
              "    </tr>\n",
              "    <tr>\n",
              "      <th>4</th>\n",
              "      <td>5238</td>\n",
              "      <td>Ben</td>\n",
              "      <td>June 09 2019</td>\n",
              "    </tr>\n",
              "  </tbody>\n",
              "</table>\n",
              "</div>\n",
              "      <button class=\"colab-df-convert\" onclick=\"convertToInteractive('df-b9dafcd1-cd9c-4b43-8a3d-57ffd9dfdd81')\"\n",
              "              title=\"Convert this dataframe to an interactive table.\"\n",
              "              style=\"display:none;\">\n",
              "        \n",
              "  <svg xmlns=\"http://www.w3.org/2000/svg\" height=\"24px\"viewBox=\"0 0 24 24\"\n",
              "       width=\"24px\">\n",
              "    <path d=\"M0 0h24v24H0V0z\" fill=\"none\"/>\n",
              "    <path d=\"M18.56 5.44l.94 2.06.94-2.06 2.06-.94-2.06-.94-.94-2.06-.94 2.06-2.06.94zm-11 1L8.5 8.5l.94-2.06 2.06-.94-2.06-.94L8.5 2.5l-.94 2.06-2.06.94zm10 10l.94 2.06.94-2.06 2.06-.94-2.06-.94-.94-2.06-.94 2.06-2.06.94z\"/><path d=\"M17.41 7.96l-1.37-1.37c-.4-.4-.92-.59-1.43-.59-.52 0-1.04.2-1.43.59L10.3 9.45l-7.72 7.72c-.78.78-.78 2.05 0 2.83L4 21.41c.39.39.9.59 1.41.59.51 0 1.02-.2 1.41-.59l7.78-7.78 2.81-2.81c.8-.78.8-2.07 0-2.86zM5.41 20L4 18.59l7.72-7.72 1.47 1.35L5.41 20z\"/>\n",
              "  </svg>\n",
              "      </button>\n",
              "      \n",
              "  <style>\n",
              "    .colab-df-container {\n",
              "      display:flex;\n",
              "      flex-wrap:wrap;\n",
              "      gap: 12px;\n",
              "    }\n",
              "\n",
              "    .colab-df-convert {\n",
              "      background-color: #E8F0FE;\n",
              "      border: none;\n",
              "      border-radius: 50%;\n",
              "      cursor: pointer;\n",
              "      display: none;\n",
              "      fill: #1967D2;\n",
              "      height: 32px;\n",
              "      padding: 0 0 0 0;\n",
              "      width: 32px;\n",
              "    }\n",
              "\n",
              "    .colab-df-convert:hover {\n",
              "      background-color: #E2EBFA;\n",
              "      box-shadow: 0px 1px 2px rgba(60, 64, 67, 0.3), 0px 1px 3px 1px rgba(60, 64, 67, 0.15);\n",
              "      fill: #174EA6;\n",
              "    }\n",
              "\n",
              "    [theme=dark] .colab-df-convert {\n",
              "      background-color: #3B4455;\n",
              "      fill: #D2E3FC;\n",
              "    }\n",
              "\n",
              "    [theme=dark] .colab-df-convert:hover {\n",
              "      background-color: #434B5C;\n",
              "      box-shadow: 0px 1px 3px 1px rgba(0, 0, 0, 0.15);\n",
              "      filter: drop-shadow(0px 1px 2px rgba(0, 0, 0, 0.3));\n",
              "      fill: #FFFFFF;\n",
              "    }\n",
              "  </style>\n",
              "\n",
              "      <script>\n",
              "        const buttonEl =\n",
              "          document.querySelector('#df-b9dafcd1-cd9c-4b43-8a3d-57ffd9dfdd81 button.colab-df-convert');\n",
              "        buttonEl.style.display =\n",
              "          google.colab.kernel.accessAllowed ? 'block' : 'none';\n",
              "\n",
              "        async function convertToInteractive(key) {\n",
              "          const element = document.querySelector('#df-b9dafcd1-cd9c-4b43-8a3d-57ffd9dfdd81');\n",
              "          const dataTable =\n",
              "            await google.colab.kernel.invokeFunction('convertToInteractive',\n",
              "                                                     [key], {});\n",
              "          if (!dataTable) return;\n",
              "\n",
              "          const docLinkHtml = 'Like what you see? Visit the ' +\n",
              "            '<a target=\"_blank\" href=https://colab.research.google.com/notebooks/data_table.ipynb>data table notebook</a>'\n",
              "            + ' to learn more about interactive tables.';\n",
              "          element.innerHTML = '';\n",
              "          dataTable['output_type'] = 'display_data';\n",
              "          await google.colab.output.renderOutput(dataTable, element);\n",
              "          const docLink = document.createElement('div');\n",
              "          docLink.innerHTML = docLinkHtml;\n",
              "          element.appendChild(docLink);\n",
              "        }\n",
              "      </script>\n",
              "    </div>\n",
              "  </div>\n",
              "  "
            ]
          },
          "metadata": {},
          "execution_count": 58
        }
      ]
    },
    {
      "cell_type": "code",
      "source": [
        "print(price.shape) # price DataFrame\n",
        "price.head()"
      ],
      "metadata": {
        "colab": {
          "base_uri": "https://localhost:8080/",
          "height": 223
        },
        "id": "sJytxJK_wHI_",
        "outputId": "806d5771-d9a5-4031-cc96-8f6eabaa48f2"
      },
      "execution_count": 59,
      "outputs": [
        {
          "output_type": "stream",
          "name": "stdout",
          "text": [
            "(25209, 3)\n"
          ]
        },
        {
          "output_type": "execute_result",
          "data": {
            "text/plain": [
              "   listing_id        price                nbhood_full\n",
              "0        2595  225 dollars         Manhattan, Midtown\n",
              "1        3831   89 dollars     Brooklyn, Clinton Hill\n",
              "2        5099  200 dollars     Manhattan, Murray Hill\n",
              "3        5178   79 dollars  Manhattan, Hell's Kitchen\n",
              "4        5238  150 dollars       Manhattan, Chinatown"
            ],
            "text/html": [
              "\n",
              "  <div id=\"df-4fc3bb5c-e796-403e-8b83-2000fff9f746\">\n",
              "    <div class=\"colab-df-container\">\n",
              "      <div>\n",
              "<style scoped>\n",
              "    .dataframe tbody tr th:only-of-type {\n",
              "        vertical-align: middle;\n",
              "    }\n",
              "\n",
              "    .dataframe tbody tr th {\n",
              "        vertical-align: top;\n",
              "    }\n",
              "\n",
              "    .dataframe thead th {\n",
              "        text-align: right;\n",
              "    }\n",
              "</style>\n",
              "<table border=\"1\" class=\"dataframe\">\n",
              "  <thead>\n",
              "    <tr style=\"text-align: right;\">\n",
              "      <th></th>\n",
              "      <th>listing_id</th>\n",
              "      <th>price</th>\n",
              "      <th>nbhood_full</th>\n",
              "    </tr>\n",
              "  </thead>\n",
              "  <tbody>\n",
              "    <tr>\n",
              "      <th>0</th>\n",
              "      <td>2595</td>\n",
              "      <td>225 dollars</td>\n",
              "      <td>Manhattan, Midtown</td>\n",
              "    </tr>\n",
              "    <tr>\n",
              "      <th>1</th>\n",
              "      <td>3831</td>\n",
              "      <td>89 dollars</td>\n",
              "      <td>Brooklyn, Clinton Hill</td>\n",
              "    </tr>\n",
              "    <tr>\n",
              "      <th>2</th>\n",
              "      <td>5099</td>\n",
              "      <td>200 dollars</td>\n",
              "      <td>Manhattan, Murray Hill</td>\n",
              "    </tr>\n",
              "    <tr>\n",
              "      <th>3</th>\n",
              "      <td>5178</td>\n",
              "      <td>79 dollars</td>\n",
              "      <td>Manhattan, Hell's Kitchen</td>\n",
              "    </tr>\n",
              "    <tr>\n",
              "      <th>4</th>\n",
              "      <td>5238</td>\n",
              "      <td>150 dollars</td>\n",
              "      <td>Manhattan, Chinatown</td>\n",
              "    </tr>\n",
              "  </tbody>\n",
              "</table>\n",
              "</div>\n",
              "      <button class=\"colab-df-convert\" onclick=\"convertToInteractive('df-4fc3bb5c-e796-403e-8b83-2000fff9f746')\"\n",
              "              title=\"Convert this dataframe to an interactive table.\"\n",
              "              style=\"display:none;\">\n",
              "        \n",
              "  <svg xmlns=\"http://www.w3.org/2000/svg\" height=\"24px\"viewBox=\"0 0 24 24\"\n",
              "       width=\"24px\">\n",
              "    <path d=\"M0 0h24v24H0V0z\" fill=\"none\"/>\n",
              "    <path d=\"M18.56 5.44l.94 2.06.94-2.06 2.06-.94-2.06-.94-.94-2.06-.94 2.06-2.06.94zm-11 1L8.5 8.5l.94-2.06 2.06-.94-2.06-.94L8.5 2.5l-.94 2.06-2.06.94zm10 10l.94 2.06.94-2.06 2.06-.94-2.06-.94-.94-2.06-.94 2.06-2.06.94z\"/><path d=\"M17.41 7.96l-1.37-1.37c-.4-.4-.92-.59-1.43-.59-.52 0-1.04.2-1.43.59L10.3 9.45l-7.72 7.72c-.78.78-.78 2.05 0 2.83L4 21.41c.39.39.9.59 1.41.59.51 0 1.02-.2 1.41-.59l7.78-7.78 2.81-2.81c.8-.78.8-2.07 0-2.86zM5.41 20L4 18.59l7.72-7.72 1.47 1.35L5.41 20z\"/>\n",
              "  </svg>\n",
              "      </button>\n",
              "      \n",
              "  <style>\n",
              "    .colab-df-container {\n",
              "      display:flex;\n",
              "      flex-wrap:wrap;\n",
              "      gap: 12px;\n",
              "    }\n",
              "\n",
              "    .colab-df-convert {\n",
              "      background-color: #E8F0FE;\n",
              "      border: none;\n",
              "      border-radius: 50%;\n",
              "      cursor: pointer;\n",
              "      display: none;\n",
              "      fill: #1967D2;\n",
              "      height: 32px;\n",
              "      padding: 0 0 0 0;\n",
              "      width: 32px;\n",
              "    }\n",
              "\n",
              "    .colab-df-convert:hover {\n",
              "      background-color: #E2EBFA;\n",
              "      box-shadow: 0px 1px 2px rgba(60, 64, 67, 0.3), 0px 1px 3px 1px rgba(60, 64, 67, 0.15);\n",
              "      fill: #174EA6;\n",
              "    }\n",
              "\n",
              "    [theme=dark] .colab-df-convert {\n",
              "      background-color: #3B4455;\n",
              "      fill: #D2E3FC;\n",
              "    }\n",
              "\n",
              "    [theme=dark] .colab-df-convert:hover {\n",
              "      background-color: #434B5C;\n",
              "      box-shadow: 0px 1px 3px 1px rgba(0, 0, 0, 0.15);\n",
              "      filter: drop-shadow(0px 1px 2px rgba(0, 0, 0, 0.3));\n",
              "      fill: #FFFFFF;\n",
              "    }\n",
              "  </style>\n",
              "\n",
              "      <script>\n",
              "        const buttonEl =\n",
              "          document.querySelector('#df-4fc3bb5c-e796-403e-8b83-2000fff9f746 button.colab-df-convert');\n",
              "        buttonEl.style.display =\n",
              "          google.colab.kernel.accessAllowed ? 'block' : 'none';\n",
              "\n",
              "        async function convertToInteractive(key) {\n",
              "          const element = document.querySelector('#df-4fc3bb5c-e796-403e-8b83-2000fff9f746');\n",
              "          const dataTable =\n",
              "            await google.colab.kernel.invokeFunction('convertToInteractive',\n",
              "                                                     [key], {});\n",
              "          if (!dataTable) return;\n",
              "\n",
              "          const docLinkHtml = 'Like what you see? Visit the ' +\n",
              "            '<a target=\"_blank\" href=https://colab.research.google.com/notebooks/data_table.ipynb>data table notebook</a>'\n",
              "            + ' to learn more about interactive tables.';\n",
              "          element.innerHTML = '';\n",
              "          dataTable['output_type'] = 'display_data';\n",
              "          await google.colab.output.renderOutput(dataTable, element);\n",
              "          const docLink = document.createElement('div');\n",
              "          docLink.innerHTML = docLinkHtml;\n",
              "          element.appendChild(docLink);\n",
              "        }\n",
              "      </script>\n",
              "    </div>\n",
              "  </div>\n",
              "  "
            ]
          },
          "metadata": {},
          "execution_count": 59
        }
      ]
    },
    {
      "cell_type": "code",
      "source": [
        "print(roomType.shape) # roomType DataFrame\n",
        "roomType.head()"
      ],
      "metadata": {
        "colab": {
          "base_uri": "https://localhost:8080/",
          "height": 223
        },
        "id": "RFOxIHw7wI_M",
        "outputId": "93a8a811-64a5-4f54-c239-324e3d1fb460"
      },
      "execution_count": 60,
      "outputs": [
        {
          "output_type": "stream",
          "name": "stdout",
          "text": [
            "(25209, 3)\n"
          ]
        },
        {
          "output_type": "execute_result",
          "data": {
            "text/plain": [
              "   listing_id                                description        room_type\n",
              "0        2595                      Skylit Midtown Castle  Entire home/apt\n",
              "1        3831            Cozy Entire Floor of Brownstone  Entire home/apt\n",
              "2        5099  Large Cozy 1 BR Apartment In Midtown East  Entire home/apt\n",
              "3        5178            Large Furnished Room Near B'way     private room\n",
              "4        5238         Cute & Cozy Lower East Side 1 bdrm  Entire home/apt"
            ],
            "text/html": [
              "\n",
              "  <div id=\"df-005b808b-d003-4932-b7ea-9fd9ba301548\">\n",
              "    <div class=\"colab-df-container\">\n",
              "      <div>\n",
              "<style scoped>\n",
              "    .dataframe tbody tr th:only-of-type {\n",
              "        vertical-align: middle;\n",
              "    }\n",
              "\n",
              "    .dataframe tbody tr th {\n",
              "        vertical-align: top;\n",
              "    }\n",
              "\n",
              "    .dataframe thead th {\n",
              "        text-align: right;\n",
              "    }\n",
              "</style>\n",
              "<table border=\"1\" class=\"dataframe\">\n",
              "  <thead>\n",
              "    <tr style=\"text-align: right;\">\n",
              "      <th></th>\n",
              "      <th>listing_id</th>\n",
              "      <th>description</th>\n",
              "      <th>room_type</th>\n",
              "    </tr>\n",
              "  </thead>\n",
              "  <tbody>\n",
              "    <tr>\n",
              "      <th>0</th>\n",
              "      <td>2595</td>\n",
              "      <td>Skylit Midtown Castle</td>\n",
              "      <td>Entire home/apt</td>\n",
              "    </tr>\n",
              "    <tr>\n",
              "      <th>1</th>\n",
              "      <td>3831</td>\n",
              "      <td>Cozy Entire Floor of Brownstone</td>\n",
              "      <td>Entire home/apt</td>\n",
              "    </tr>\n",
              "    <tr>\n",
              "      <th>2</th>\n",
              "      <td>5099</td>\n",
              "      <td>Large Cozy 1 BR Apartment In Midtown East</td>\n",
              "      <td>Entire home/apt</td>\n",
              "    </tr>\n",
              "    <tr>\n",
              "      <th>3</th>\n",
              "      <td>5178</td>\n",
              "      <td>Large Furnished Room Near B'way</td>\n",
              "      <td>private room</td>\n",
              "    </tr>\n",
              "    <tr>\n",
              "      <th>4</th>\n",
              "      <td>5238</td>\n",
              "      <td>Cute &amp; Cozy Lower East Side 1 bdrm</td>\n",
              "      <td>Entire home/apt</td>\n",
              "    </tr>\n",
              "  </tbody>\n",
              "</table>\n",
              "</div>\n",
              "      <button class=\"colab-df-convert\" onclick=\"convertToInteractive('df-005b808b-d003-4932-b7ea-9fd9ba301548')\"\n",
              "              title=\"Convert this dataframe to an interactive table.\"\n",
              "              style=\"display:none;\">\n",
              "        \n",
              "  <svg xmlns=\"http://www.w3.org/2000/svg\" height=\"24px\"viewBox=\"0 0 24 24\"\n",
              "       width=\"24px\">\n",
              "    <path d=\"M0 0h24v24H0V0z\" fill=\"none\"/>\n",
              "    <path d=\"M18.56 5.44l.94 2.06.94-2.06 2.06-.94-2.06-.94-.94-2.06-.94 2.06-2.06.94zm-11 1L8.5 8.5l.94-2.06 2.06-.94-2.06-.94L8.5 2.5l-.94 2.06-2.06.94zm10 10l.94 2.06.94-2.06 2.06-.94-2.06-.94-.94-2.06-.94 2.06-2.06.94z\"/><path d=\"M17.41 7.96l-1.37-1.37c-.4-.4-.92-.59-1.43-.59-.52 0-1.04.2-1.43.59L10.3 9.45l-7.72 7.72c-.78.78-.78 2.05 0 2.83L4 21.41c.39.39.9.59 1.41.59.51 0 1.02-.2 1.41-.59l7.78-7.78 2.81-2.81c.8-.78.8-2.07 0-2.86zM5.41 20L4 18.59l7.72-7.72 1.47 1.35L5.41 20z\"/>\n",
              "  </svg>\n",
              "      </button>\n",
              "      \n",
              "  <style>\n",
              "    .colab-df-container {\n",
              "      display:flex;\n",
              "      flex-wrap:wrap;\n",
              "      gap: 12px;\n",
              "    }\n",
              "\n",
              "    .colab-df-convert {\n",
              "      background-color: #E8F0FE;\n",
              "      border: none;\n",
              "      border-radius: 50%;\n",
              "      cursor: pointer;\n",
              "      display: none;\n",
              "      fill: #1967D2;\n",
              "      height: 32px;\n",
              "      padding: 0 0 0 0;\n",
              "      width: 32px;\n",
              "    }\n",
              "\n",
              "    .colab-df-convert:hover {\n",
              "      background-color: #E2EBFA;\n",
              "      box-shadow: 0px 1px 2px rgba(60, 64, 67, 0.3), 0px 1px 3px 1px rgba(60, 64, 67, 0.15);\n",
              "      fill: #174EA6;\n",
              "    }\n",
              "\n",
              "    [theme=dark] .colab-df-convert {\n",
              "      background-color: #3B4455;\n",
              "      fill: #D2E3FC;\n",
              "    }\n",
              "\n",
              "    [theme=dark] .colab-df-convert:hover {\n",
              "      background-color: #434B5C;\n",
              "      box-shadow: 0px 1px 3px 1px rgba(0, 0, 0, 0.15);\n",
              "      filter: drop-shadow(0px 1px 2px rgba(0, 0, 0, 0.3));\n",
              "      fill: #FFFFFF;\n",
              "    }\n",
              "  </style>\n",
              "\n",
              "      <script>\n",
              "        const buttonEl =\n",
              "          document.querySelector('#df-005b808b-d003-4932-b7ea-9fd9ba301548 button.colab-df-convert');\n",
              "        buttonEl.style.display =\n",
              "          google.colab.kernel.accessAllowed ? 'block' : 'none';\n",
              "\n",
              "        async function convertToInteractive(key) {\n",
              "          const element = document.querySelector('#df-005b808b-d003-4932-b7ea-9fd9ba301548');\n",
              "          const dataTable =\n",
              "            await google.colab.kernel.invokeFunction('convertToInteractive',\n",
              "                                                     [key], {});\n",
              "          if (!dataTable) return;\n",
              "\n",
              "          const docLinkHtml = 'Like what you see? Visit the ' +\n",
              "            '<a target=\"_blank\" href=https://colab.research.google.com/notebooks/data_table.ipynb>data table notebook</a>'\n",
              "            + ' to learn more about interactive tables.';\n",
              "          element.innerHTML = '';\n",
              "          dataTable['output_type'] = 'display_data';\n",
              "          await google.colab.output.renderOutput(dataTable, element);\n",
              "          const docLink = document.createElement('div');\n",
              "          docLink.innerHTML = docLinkHtml;\n",
              "          element.appendChild(docLink);\n",
              "        }\n",
              "      </script>\n",
              "    </div>\n",
              "  </div>\n",
              "  "
            ]
          },
          "metadata": {},
          "execution_count": 60
        }
      ]
    },
    {
      "cell_type": "code",
      "source": [
        "#check column\n",
        "print(review.columns)\n",
        "print(price.columns)\n",
        "print(roomType.columns)"
      ],
      "metadata": {
        "colab": {
          "base_uri": "https://localhost:8080/"
        },
        "id": "eLgb0S1CPo3K",
        "outputId": "753e419b-7a26-4522-de27-548199ce6512"
      },
      "execution_count": 61,
      "outputs": [
        {
          "output_type": "stream",
          "name": "stdout",
          "text": [
            "Index([' listing_id', 'host_name', 'last_review'], dtype='object')\n",
            "Index(['listing_id', 'price', 'nbhood_full'], dtype='object')\n",
            "Index(['listing_id', 'description', 'room_type'], dtype='object')\n"
          ]
        }
      ]
    },
    {
      "cell_type": "code",
      "source": [
        "#removing space\n",
        "review.columns = review.columns.str.lstrip()"
      ],
      "metadata": {
        "id": "9Tw-cY0FnYEr"
      },
      "execution_count": 62,
      "outputs": []
    },
    {
      "cell_type": "code",
      "source": [
        "#check column\n",
        "print(review.columns)"
      ],
      "metadata": {
        "colab": {
          "base_uri": "https://localhost:8080/"
        },
        "id": "f8F2LsMPnbCi",
        "outputId": "efab8f32-8709-40ea-be89-e0fd5377bf73"
      },
      "execution_count": 63,
      "outputs": [
        {
          "output_type": "stream",
          "name": "stdout",
          "text": [
            "Index(['listing_id', 'host_name', 'last_review'], dtype='object')\n"
          ]
        }
      ]
    },
    {
      "cell_type": "markdown",
      "source": [
        "**merge DataFrame**"
      ],
      "metadata": {
        "id": "wL1wK8SwPEVg"
      }
    },
    {
      "cell_type": "code",
      "source": [
        "df_merge = pd.merge(review, price, on='listing_id')\n",
        "df = pd.merge(df_merge, roomType, on='listing_id')\n",
        "df.head()"
      ],
      "metadata": {
        "colab": {
          "base_uri": "https://localhost:8080/",
          "height": 206
        },
        "id": "JD5lM2zdPDjR",
        "outputId": "1d15e177-586b-41bf-ab7a-377730138818"
      },
      "execution_count": 64,
      "outputs": [
        {
          "output_type": "execute_result",
          "data": {
            "text/plain": [
              "   listing_id    host_name   last_review        price  \\\n",
              "0        2595     Jennifer   May 21 2019  225 dollars   \n",
              "1        3831  LisaRoxanne  July 05 2019   89 dollars   \n",
              "2        5099        Chris  June 22 2019  200 dollars   \n",
              "3        5178     Shunichi  June 24 2019   79 dollars   \n",
              "4        5238          Ben  June 09 2019  150 dollars   \n",
              "\n",
              "                 nbhood_full                                description  \\\n",
              "0         Manhattan, Midtown                      Skylit Midtown Castle   \n",
              "1     Brooklyn, Clinton Hill            Cozy Entire Floor of Brownstone   \n",
              "2     Manhattan, Murray Hill  Large Cozy 1 BR Apartment In Midtown East   \n",
              "3  Manhattan, Hell's Kitchen            Large Furnished Room Near B'way   \n",
              "4       Manhattan, Chinatown         Cute & Cozy Lower East Side 1 bdrm   \n",
              "\n",
              "         room_type  \n",
              "0  Entire home/apt  \n",
              "1  Entire home/apt  \n",
              "2  Entire home/apt  \n",
              "3     private room  \n",
              "4  Entire home/apt  "
            ],
            "text/html": [
              "\n",
              "  <div id=\"df-15b0833e-229b-4c23-86e1-325bd9013691\">\n",
              "    <div class=\"colab-df-container\">\n",
              "      <div>\n",
              "<style scoped>\n",
              "    .dataframe tbody tr th:only-of-type {\n",
              "        vertical-align: middle;\n",
              "    }\n",
              "\n",
              "    .dataframe tbody tr th {\n",
              "        vertical-align: top;\n",
              "    }\n",
              "\n",
              "    .dataframe thead th {\n",
              "        text-align: right;\n",
              "    }\n",
              "</style>\n",
              "<table border=\"1\" class=\"dataframe\">\n",
              "  <thead>\n",
              "    <tr style=\"text-align: right;\">\n",
              "      <th></th>\n",
              "      <th>listing_id</th>\n",
              "      <th>host_name</th>\n",
              "      <th>last_review</th>\n",
              "      <th>price</th>\n",
              "      <th>nbhood_full</th>\n",
              "      <th>description</th>\n",
              "      <th>room_type</th>\n",
              "    </tr>\n",
              "  </thead>\n",
              "  <tbody>\n",
              "    <tr>\n",
              "      <th>0</th>\n",
              "      <td>2595</td>\n",
              "      <td>Jennifer</td>\n",
              "      <td>May 21 2019</td>\n",
              "      <td>225 dollars</td>\n",
              "      <td>Manhattan, Midtown</td>\n",
              "      <td>Skylit Midtown Castle</td>\n",
              "      <td>Entire home/apt</td>\n",
              "    </tr>\n",
              "    <tr>\n",
              "      <th>1</th>\n",
              "      <td>3831</td>\n",
              "      <td>LisaRoxanne</td>\n",
              "      <td>July 05 2019</td>\n",
              "      <td>89 dollars</td>\n",
              "      <td>Brooklyn, Clinton Hill</td>\n",
              "      <td>Cozy Entire Floor of Brownstone</td>\n",
              "      <td>Entire home/apt</td>\n",
              "    </tr>\n",
              "    <tr>\n",
              "      <th>2</th>\n",
              "      <td>5099</td>\n",
              "      <td>Chris</td>\n",
              "      <td>June 22 2019</td>\n",
              "      <td>200 dollars</td>\n",
              "      <td>Manhattan, Murray Hill</td>\n",
              "      <td>Large Cozy 1 BR Apartment In Midtown East</td>\n",
              "      <td>Entire home/apt</td>\n",
              "    </tr>\n",
              "    <tr>\n",
              "      <th>3</th>\n",
              "      <td>5178</td>\n",
              "      <td>Shunichi</td>\n",
              "      <td>June 24 2019</td>\n",
              "      <td>79 dollars</td>\n",
              "      <td>Manhattan, Hell's Kitchen</td>\n",
              "      <td>Large Furnished Room Near B'way</td>\n",
              "      <td>private room</td>\n",
              "    </tr>\n",
              "    <tr>\n",
              "      <th>4</th>\n",
              "      <td>5238</td>\n",
              "      <td>Ben</td>\n",
              "      <td>June 09 2019</td>\n",
              "      <td>150 dollars</td>\n",
              "      <td>Manhattan, Chinatown</td>\n",
              "      <td>Cute &amp; Cozy Lower East Side 1 bdrm</td>\n",
              "      <td>Entire home/apt</td>\n",
              "    </tr>\n",
              "  </tbody>\n",
              "</table>\n",
              "</div>\n",
              "      <button class=\"colab-df-convert\" onclick=\"convertToInteractive('df-15b0833e-229b-4c23-86e1-325bd9013691')\"\n",
              "              title=\"Convert this dataframe to an interactive table.\"\n",
              "              style=\"display:none;\">\n",
              "        \n",
              "  <svg xmlns=\"http://www.w3.org/2000/svg\" height=\"24px\"viewBox=\"0 0 24 24\"\n",
              "       width=\"24px\">\n",
              "    <path d=\"M0 0h24v24H0V0z\" fill=\"none\"/>\n",
              "    <path d=\"M18.56 5.44l.94 2.06.94-2.06 2.06-.94-2.06-.94-.94-2.06-.94 2.06-2.06.94zm-11 1L8.5 8.5l.94-2.06 2.06-.94-2.06-.94L8.5 2.5l-.94 2.06-2.06.94zm10 10l.94 2.06.94-2.06 2.06-.94-2.06-.94-.94-2.06-.94 2.06-2.06.94z\"/><path d=\"M17.41 7.96l-1.37-1.37c-.4-.4-.92-.59-1.43-.59-.52 0-1.04.2-1.43.59L10.3 9.45l-7.72 7.72c-.78.78-.78 2.05 0 2.83L4 21.41c.39.39.9.59 1.41.59.51 0 1.02-.2 1.41-.59l7.78-7.78 2.81-2.81c.8-.78.8-2.07 0-2.86zM5.41 20L4 18.59l7.72-7.72 1.47 1.35L5.41 20z\"/>\n",
              "  </svg>\n",
              "      </button>\n",
              "      \n",
              "  <style>\n",
              "    .colab-df-container {\n",
              "      display:flex;\n",
              "      flex-wrap:wrap;\n",
              "      gap: 12px;\n",
              "    }\n",
              "\n",
              "    .colab-df-convert {\n",
              "      background-color: #E8F0FE;\n",
              "      border: none;\n",
              "      border-radius: 50%;\n",
              "      cursor: pointer;\n",
              "      display: none;\n",
              "      fill: #1967D2;\n",
              "      height: 32px;\n",
              "      padding: 0 0 0 0;\n",
              "      width: 32px;\n",
              "    }\n",
              "\n",
              "    .colab-df-convert:hover {\n",
              "      background-color: #E2EBFA;\n",
              "      box-shadow: 0px 1px 2px rgba(60, 64, 67, 0.3), 0px 1px 3px 1px rgba(60, 64, 67, 0.15);\n",
              "      fill: #174EA6;\n",
              "    }\n",
              "\n",
              "    [theme=dark] .colab-df-convert {\n",
              "      background-color: #3B4455;\n",
              "      fill: #D2E3FC;\n",
              "    }\n",
              "\n",
              "    [theme=dark] .colab-df-convert:hover {\n",
              "      background-color: #434B5C;\n",
              "      box-shadow: 0px 1px 3px 1px rgba(0, 0, 0, 0.15);\n",
              "      filter: drop-shadow(0px 1px 2px rgba(0, 0, 0, 0.3));\n",
              "      fill: #FFFFFF;\n",
              "    }\n",
              "  </style>\n",
              "\n",
              "      <script>\n",
              "        const buttonEl =\n",
              "          document.querySelector('#df-15b0833e-229b-4c23-86e1-325bd9013691 button.colab-df-convert');\n",
              "        buttonEl.style.display =\n",
              "          google.colab.kernel.accessAllowed ? 'block' : 'none';\n",
              "\n",
              "        async function convertToInteractive(key) {\n",
              "          const element = document.querySelector('#df-15b0833e-229b-4c23-86e1-325bd9013691');\n",
              "          const dataTable =\n",
              "            await google.colab.kernel.invokeFunction('convertToInteractive',\n",
              "                                                     [key], {});\n",
              "          if (!dataTable) return;\n",
              "\n",
              "          const docLinkHtml = 'Like what you see? Visit the ' +\n",
              "            '<a target=\"_blank\" href=https://colab.research.google.com/notebooks/data_table.ipynb>data table notebook</a>'\n",
              "            + ' to learn more about interactive tables.';\n",
              "          element.innerHTML = '';\n",
              "          dataTable['output_type'] = 'display_data';\n",
              "          await google.colab.output.renderOutput(dataTable, element);\n",
              "          const docLink = document.createElement('div');\n",
              "          docLink.innerHTML = docLinkHtml;\n",
              "          element.appendChild(docLink);\n",
              "        }\n",
              "      </script>\n",
              "    </div>\n",
              "  </div>\n",
              "  "
            ]
          },
          "metadata": {},
          "execution_count": 64
        }
      ]
    },
    {
      "cell_type": "markdown",
      "source": [
        "# **Exploratory Data Analysis (EDA)**"
      ],
      "metadata": {
        "id": "sVqgKdkWT2qi"
      }
    },
    {
      "cell_type": "code",
      "source": [
        "df.shape # check size data"
      ],
      "metadata": {
        "colab": {
          "base_uri": "https://localhost:8080/"
        },
        "id": "FK3z4GNCT5Nh",
        "outputId": "29791b6e-92dc-4c7e-8096-b946e1a6494d"
      },
      "execution_count": 65,
      "outputs": [
        {
          "output_type": "execute_result",
          "data": {
            "text/plain": [
              "(25209, 7)"
            ]
          },
          "metadata": {},
          "execution_count": 65
        }
      ]
    },
    {
      "cell_type": "code",
      "source": [
        "df.info()"
      ],
      "metadata": {
        "colab": {
          "base_uri": "https://localhost:8080/"
        },
        "id": "R1QVxqfwT9QJ",
        "outputId": "136a465b-aacc-4c6f-8b10-95a5c96c0453"
      },
      "execution_count": 66,
      "outputs": [
        {
          "output_type": "stream",
          "name": "stdout",
          "text": [
            "<class 'pandas.core.frame.DataFrame'>\n",
            "Int64Index: 25209 entries, 0 to 25208\n",
            "Data columns (total 7 columns):\n",
            " #   Column       Non-Null Count  Dtype \n",
            "---  ------       --------------  ----- \n",
            " 0   listing_id   25209 non-null  int64 \n",
            " 1   host_name    25201 non-null  object\n",
            " 2   last_review  25209 non-null  object\n",
            " 3   price        25209 non-null  object\n",
            " 4   nbhood_full  25209 non-null  object\n",
            " 5   description  25199 non-null  object\n",
            " 6   room_type    25209 non-null  object\n",
            "dtypes: int64(1), object(6)\n",
            "memory usage: 1.5+ MB\n"
          ]
        }
      ]
    },
    {
      "cell_type": "code",
      "source": [
        "df.isnull().sum() # check null data"
      ],
      "metadata": {
        "colab": {
          "base_uri": "https://localhost:8080/"
        },
        "id": "LOMdrAgKUCs4",
        "outputId": "b0574d32-6d44-4199-dcd8-4a764557071b"
      },
      "execution_count": 67,
      "outputs": [
        {
          "output_type": "execute_result",
          "data": {
            "text/plain": [
              "listing_id      0\n",
              "host_name       8\n",
              "last_review     0\n",
              "price           0\n",
              "nbhood_full     0\n",
              "description    10\n",
              "room_type       0\n",
              "dtype: int64"
            ]
          },
          "metadata": {},
          "execution_count": 67
        }
      ]
    },
    {
      "cell_type": "code",
      "source": [
        "df[df.isnull().any(axis=1)] #show null data"
      ],
      "metadata": {
        "colab": {
          "base_uri": "https://localhost:8080/",
          "height": 613
        },
        "id": "6sugN93HULZx",
        "outputId": "de966988-161c-418d-c377-904e371627fd"
      },
      "execution_count": 68,
      "outputs": [
        {
          "output_type": "execute_result",
          "data": {
            "text/plain": [
              "       listing_id         host_name      last_review        price  \\\n",
              "263        100184               NaN     July 08 2019   50 dollars   \n",
              "3040      4183989               NaN      May 23 2019   86 dollars   \n",
              "4039      6292866               NaN     June 19 2019   85 dollars   \n",
              "4269      6786181               NaN     June 19 2019  100 dollars   \n",
              "4688      7851219              John     June 18 2019   60 dollars   \n",
              "4690      7854307              John     June 15 2019   60 dollars   \n",
              "4696      7858673              John     June 08 2019   60 dollars   \n",
              "4707      7873655              John     June 21 2019   60 dollars   \n",
              "4709      7886635              John     June 18 2019   60 dollars   \n",
              "4717      7901635              John     June 23 2019   60 dollars   \n",
              "4829      8192443              John     June 23 2019   60 dollars   \n",
              "4901      8341556          Gordon M      May 26 2019   55 dollars   \n",
              "5496      9698992          Gordon M     June 14 2019   62 dollars   \n",
              "6338     12113879               NaN     July 02 2019  220 dollars   \n",
              "8060     15648096               NaN     July 07 2019   75 dollars   \n",
              "11986    21733545  Sybilla Michelle     June 30 2019  175 dollars   \n",
              "12128    21867710               NaN  January 01 2019  120 dollars   \n",
              "12164    21901156               NaN  January 01 2019  120 dollars   \n",
              "\n",
              "                     nbhood_full  \\\n",
              "263       Queens, Queens Village   \n",
              "3040           Manhattan, Harlem   \n",
              "4039     Brooklyn, East Flatbush   \n",
              "4269     Brooklyn, East Flatbush   \n",
              "4688      Brooklyn, Williamsburg   \n",
              "4690      Brooklyn, Williamsburg   \n",
              "4696      Brooklyn, Williamsburg   \n",
              "4707      Brooklyn, Williamsburg   \n",
              "4709      Brooklyn, Williamsburg   \n",
              "4717      Brooklyn, Williamsburg   \n",
              "4829      Brooklyn, Williamsburg   \n",
              "4901           Manhattan, Harlem   \n",
              "5496           Manhattan, Harlem   \n",
              "6338          Manhattan, Chelsea   \n",
              "8060           Bronx, Highbridge   \n",
              "11986  Manhattan, Hell's Kitchen   \n",
              "12128  Manhattan, Hell's Kitchen   \n",
              "12164  Manhattan, Hell's Kitchen   \n",
              "\n",
              "                                             description        room_type  \n",
              "263                                            Bienvenue     private room  \n",
              "3040     SPRING in the City!! Zen-Style Tranquil Bedroom     Private room  \n",
              "4039                           Modern Quiet Gem Near All  entire home/apt  \n",
              "4269                        R&S Modern Spacious Hideaway  Entire home/apt  \n",
              "4688                                                 NaN     PRIVATE ROOM  \n",
              "4690                                                 NaN     private room  \n",
              "4696                                                 NaN     Private room  \n",
              "4707                                                 NaN     PRIVATE ROOM  \n",
              "4709                                                 NaN     Private room  \n",
              "4717                                                 NaN     Private room  \n",
              "4829                                                 NaN     private room  \n",
              "4901                                                 NaN     Private room  \n",
              "5496                                                 NaN     private room  \n",
              "6338      Sunny, Large West Village 1 BR Near Everything  Entire home/apt  \n",
              "8060               Spacious 2 bedroom close to Manhattan  Entire home/apt  \n",
              "11986                                                NaN     Private room  \n",
              "12128  Amazing room in the centre on Manhatten! Welcome!     Private room  \n",
              "12164  Best Deal! Lovely place in Manhattan! Time Squ...     Private room  "
            ],
            "text/html": [
              "\n",
              "  <div id=\"df-0422bfb3-d20e-4361-ad03-6abc60ab7fdf\">\n",
              "    <div class=\"colab-df-container\">\n",
              "      <div>\n",
              "<style scoped>\n",
              "    .dataframe tbody tr th:only-of-type {\n",
              "        vertical-align: middle;\n",
              "    }\n",
              "\n",
              "    .dataframe tbody tr th {\n",
              "        vertical-align: top;\n",
              "    }\n",
              "\n",
              "    .dataframe thead th {\n",
              "        text-align: right;\n",
              "    }\n",
              "</style>\n",
              "<table border=\"1\" class=\"dataframe\">\n",
              "  <thead>\n",
              "    <tr style=\"text-align: right;\">\n",
              "      <th></th>\n",
              "      <th>listing_id</th>\n",
              "      <th>host_name</th>\n",
              "      <th>last_review</th>\n",
              "      <th>price</th>\n",
              "      <th>nbhood_full</th>\n",
              "      <th>description</th>\n",
              "      <th>room_type</th>\n",
              "    </tr>\n",
              "  </thead>\n",
              "  <tbody>\n",
              "    <tr>\n",
              "      <th>263</th>\n",
              "      <td>100184</td>\n",
              "      <td>NaN</td>\n",
              "      <td>July 08 2019</td>\n",
              "      <td>50 dollars</td>\n",
              "      <td>Queens, Queens Village</td>\n",
              "      <td>Bienvenue</td>\n",
              "      <td>private room</td>\n",
              "    </tr>\n",
              "    <tr>\n",
              "      <th>3040</th>\n",
              "      <td>4183989</td>\n",
              "      <td>NaN</td>\n",
              "      <td>May 23 2019</td>\n",
              "      <td>86 dollars</td>\n",
              "      <td>Manhattan, Harlem</td>\n",
              "      <td>SPRING in the City!! Zen-Style Tranquil Bedroom</td>\n",
              "      <td>Private room</td>\n",
              "    </tr>\n",
              "    <tr>\n",
              "      <th>4039</th>\n",
              "      <td>6292866</td>\n",
              "      <td>NaN</td>\n",
              "      <td>June 19 2019</td>\n",
              "      <td>85 dollars</td>\n",
              "      <td>Brooklyn, East Flatbush</td>\n",
              "      <td>Modern Quiet Gem Near All</td>\n",
              "      <td>entire home/apt</td>\n",
              "    </tr>\n",
              "    <tr>\n",
              "      <th>4269</th>\n",
              "      <td>6786181</td>\n",
              "      <td>NaN</td>\n",
              "      <td>June 19 2019</td>\n",
              "      <td>100 dollars</td>\n",
              "      <td>Brooklyn, East Flatbush</td>\n",
              "      <td>R&amp;S Modern Spacious Hideaway</td>\n",
              "      <td>Entire home/apt</td>\n",
              "    </tr>\n",
              "    <tr>\n",
              "      <th>4688</th>\n",
              "      <td>7851219</td>\n",
              "      <td>John</td>\n",
              "      <td>June 18 2019</td>\n",
              "      <td>60 dollars</td>\n",
              "      <td>Brooklyn, Williamsburg</td>\n",
              "      <td>NaN</td>\n",
              "      <td>PRIVATE ROOM</td>\n",
              "    </tr>\n",
              "    <tr>\n",
              "      <th>4690</th>\n",
              "      <td>7854307</td>\n",
              "      <td>John</td>\n",
              "      <td>June 15 2019</td>\n",
              "      <td>60 dollars</td>\n",
              "      <td>Brooklyn, Williamsburg</td>\n",
              "      <td>NaN</td>\n",
              "      <td>private room</td>\n",
              "    </tr>\n",
              "    <tr>\n",
              "      <th>4696</th>\n",
              "      <td>7858673</td>\n",
              "      <td>John</td>\n",
              "      <td>June 08 2019</td>\n",
              "      <td>60 dollars</td>\n",
              "      <td>Brooklyn, Williamsburg</td>\n",
              "      <td>NaN</td>\n",
              "      <td>Private room</td>\n",
              "    </tr>\n",
              "    <tr>\n",
              "      <th>4707</th>\n",
              "      <td>7873655</td>\n",
              "      <td>John</td>\n",
              "      <td>June 21 2019</td>\n",
              "      <td>60 dollars</td>\n",
              "      <td>Brooklyn, Williamsburg</td>\n",
              "      <td>NaN</td>\n",
              "      <td>PRIVATE ROOM</td>\n",
              "    </tr>\n",
              "    <tr>\n",
              "      <th>4709</th>\n",
              "      <td>7886635</td>\n",
              "      <td>John</td>\n",
              "      <td>June 18 2019</td>\n",
              "      <td>60 dollars</td>\n",
              "      <td>Brooklyn, Williamsburg</td>\n",
              "      <td>NaN</td>\n",
              "      <td>Private room</td>\n",
              "    </tr>\n",
              "    <tr>\n",
              "      <th>4717</th>\n",
              "      <td>7901635</td>\n",
              "      <td>John</td>\n",
              "      <td>June 23 2019</td>\n",
              "      <td>60 dollars</td>\n",
              "      <td>Brooklyn, Williamsburg</td>\n",
              "      <td>NaN</td>\n",
              "      <td>Private room</td>\n",
              "    </tr>\n",
              "    <tr>\n",
              "      <th>4829</th>\n",
              "      <td>8192443</td>\n",
              "      <td>John</td>\n",
              "      <td>June 23 2019</td>\n",
              "      <td>60 dollars</td>\n",
              "      <td>Brooklyn, Williamsburg</td>\n",
              "      <td>NaN</td>\n",
              "      <td>private room</td>\n",
              "    </tr>\n",
              "    <tr>\n",
              "      <th>4901</th>\n",
              "      <td>8341556</td>\n",
              "      <td>Gordon M</td>\n",
              "      <td>May 26 2019</td>\n",
              "      <td>55 dollars</td>\n",
              "      <td>Manhattan, Harlem</td>\n",
              "      <td>NaN</td>\n",
              "      <td>Private room</td>\n",
              "    </tr>\n",
              "    <tr>\n",
              "      <th>5496</th>\n",
              "      <td>9698992</td>\n",
              "      <td>Gordon M</td>\n",
              "      <td>June 14 2019</td>\n",
              "      <td>62 dollars</td>\n",
              "      <td>Manhattan, Harlem</td>\n",
              "      <td>NaN</td>\n",
              "      <td>private room</td>\n",
              "    </tr>\n",
              "    <tr>\n",
              "      <th>6338</th>\n",
              "      <td>12113879</td>\n",
              "      <td>NaN</td>\n",
              "      <td>July 02 2019</td>\n",
              "      <td>220 dollars</td>\n",
              "      <td>Manhattan, Chelsea</td>\n",
              "      <td>Sunny, Large West Village 1 BR Near Everything</td>\n",
              "      <td>Entire home/apt</td>\n",
              "    </tr>\n",
              "    <tr>\n",
              "      <th>8060</th>\n",
              "      <td>15648096</td>\n",
              "      <td>NaN</td>\n",
              "      <td>July 07 2019</td>\n",
              "      <td>75 dollars</td>\n",
              "      <td>Bronx, Highbridge</td>\n",
              "      <td>Spacious 2 bedroom close to Manhattan</td>\n",
              "      <td>Entire home/apt</td>\n",
              "    </tr>\n",
              "    <tr>\n",
              "      <th>11986</th>\n",
              "      <td>21733545</td>\n",
              "      <td>Sybilla Michelle</td>\n",
              "      <td>June 30 2019</td>\n",
              "      <td>175 dollars</td>\n",
              "      <td>Manhattan, Hell's Kitchen</td>\n",
              "      <td>NaN</td>\n",
              "      <td>Private room</td>\n",
              "    </tr>\n",
              "    <tr>\n",
              "      <th>12128</th>\n",
              "      <td>21867710</td>\n",
              "      <td>NaN</td>\n",
              "      <td>January 01 2019</td>\n",
              "      <td>120 dollars</td>\n",
              "      <td>Manhattan, Hell's Kitchen</td>\n",
              "      <td>Amazing room in the centre on Manhatten! Welcome!</td>\n",
              "      <td>Private room</td>\n",
              "    </tr>\n",
              "    <tr>\n",
              "      <th>12164</th>\n",
              "      <td>21901156</td>\n",
              "      <td>NaN</td>\n",
              "      <td>January 01 2019</td>\n",
              "      <td>120 dollars</td>\n",
              "      <td>Manhattan, Hell's Kitchen</td>\n",
              "      <td>Best Deal! Lovely place in Manhattan! Time Squ...</td>\n",
              "      <td>Private room</td>\n",
              "    </tr>\n",
              "  </tbody>\n",
              "</table>\n",
              "</div>\n",
              "      <button class=\"colab-df-convert\" onclick=\"convertToInteractive('df-0422bfb3-d20e-4361-ad03-6abc60ab7fdf')\"\n",
              "              title=\"Convert this dataframe to an interactive table.\"\n",
              "              style=\"display:none;\">\n",
              "        \n",
              "  <svg xmlns=\"http://www.w3.org/2000/svg\" height=\"24px\"viewBox=\"0 0 24 24\"\n",
              "       width=\"24px\">\n",
              "    <path d=\"M0 0h24v24H0V0z\" fill=\"none\"/>\n",
              "    <path d=\"M18.56 5.44l.94 2.06.94-2.06 2.06-.94-2.06-.94-.94-2.06-.94 2.06-2.06.94zm-11 1L8.5 8.5l.94-2.06 2.06-.94-2.06-.94L8.5 2.5l-.94 2.06-2.06.94zm10 10l.94 2.06.94-2.06 2.06-.94-2.06-.94-.94-2.06-.94 2.06-2.06.94z\"/><path d=\"M17.41 7.96l-1.37-1.37c-.4-.4-.92-.59-1.43-.59-.52 0-1.04.2-1.43.59L10.3 9.45l-7.72 7.72c-.78.78-.78 2.05 0 2.83L4 21.41c.39.39.9.59 1.41.59.51 0 1.02-.2 1.41-.59l7.78-7.78 2.81-2.81c.8-.78.8-2.07 0-2.86zM5.41 20L4 18.59l7.72-7.72 1.47 1.35L5.41 20z\"/>\n",
              "  </svg>\n",
              "      </button>\n",
              "      \n",
              "  <style>\n",
              "    .colab-df-container {\n",
              "      display:flex;\n",
              "      flex-wrap:wrap;\n",
              "      gap: 12px;\n",
              "    }\n",
              "\n",
              "    .colab-df-convert {\n",
              "      background-color: #E8F0FE;\n",
              "      border: none;\n",
              "      border-radius: 50%;\n",
              "      cursor: pointer;\n",
              "      display: none;\n",
              "      fill: #1967D2;\n",
              "      height: 32px;\n",
              "      padding: 0 0 0 0;\n",
              "      width: 32px;\n",
              "    }\n",
              "\n",
              "    .colab-df-convert:hover {\n",
              "      background-color: #E2EBFA;\n",
              "      box-shadow: 0px 1px 2px rgba(60, 64, 67, 0.3), 0px 1px 3px 1px rgba(60, 64, 67, 0.15);\n",
              "      fill: #174EA6;\n",
              "    }\n",
              "\n",
              "    [theme=dark] .colab-df-convert {\n",
              "      background-color: #3B4455;\n",
              "      fill: #D2E3FC;\n",
              "    }\n",
              "\n",
              "    [theme=dark] .colab-df-convert:hover {\n",
              "      background-color: #434B5C;\n",
              "      box-shadow: 0px 1px 3px 1px rgba(0, 0, 0, 0.15);\n",
              "      filter: drop-shadow(0px 1px 2px rgba(0, 0, 0, 0.3));\n",
              "      fill: #FFFFFF;\n",
              "    }\n",
              "  </style>\n",
              "\n",
              "      <script>\n",
              "        const buttonEl =\n",
              "          document.querySelector('#df-0422bfb3-d20e-4361-ad03-6abc60ab7fdf button.colab-df-convert');\n",
              "        buttonEl.style.display =\n",
              "          google.colab.kernel.accessAllowed ? 'block' : 'none';\n",
              "\n",
              "        async function convertToInteractive(key) {\n",
              "          const element = document.querySelector('#df-0422bfb3-d20e-4361-ad03-6abc60ab7fdf');\n",
              "          const dataTable =\n",
              "            await google.colab.kernel.invokeFunction('convertToInteractive',\n",
              "                                                     [key], {});\n",
              "          if (!dataTable) return;\n",
              "\n",
              "          const docLinkHtml = 'Like what you see? Visit the ' +\n",
              "            '<a target=\"_blank\" href=https://colab.research.google.com/notebooks/data_table.ipynb>data table notebook</a>'\n",
              "            + ' to learn more about interactive tables.';\n",
              "          element.innerHTML = '';\n",
              "          dataTable['output_type'] = 'display_data';\n",
              "          await google.colab.output.renderOutput(dataTable, element);\n",
              "          const docLink = document.createElement('div');\n",
              "          docLink.innerHTML = docLinkHtml;\n",
              "          element.appendChild(docLink);\n",
              "        }\n",
              "      </script>\n",
              "    </div>\n",
              "  </div>\n",
              "  "
            ]
          },
          "metadata": {},
          "execution_count": 68
        }
      ]
    },
    {
      "cell_type": "code",
      "source": [
        "df.dropna(inplace=True) #drop null data"
      ],
      "metadata": {
        "id": "lw3qPYhmWAjh"
      },
      "execution_count": 69,
      "outputs": []
    },
    {
      "cell_type": "code",
      "source": [
        "df.isnull().sum()"
      ],
      "metadata": {
        "colab": {
          "base_uri": "https://localhost:8080/"
        },
        "id": "0wB4CF1zWOpo",
        "outputId": "8cb22549-5047-484c-a0f9-6f631615908b"
      },
      "execution_count": 70,
      "outputs": [
        {
          "output_type": "execute_result",
          "data": {
            "text/plain": [
              "listing_id     0\n",
              "host_name      0\n",
              "last_review    0\n",
              "price          0\n",
              "nbhood_full    0\n",
              "description    0\n",
              "room_type      0\n",
              "dtype: int64"
            ]
          },
          "metadata": {},
          "execution_count": 70
        }
      ]
    },
    {
      "cell_type": "code",
      "source": [
        "df.shape"
      ],
      "metadata": {
        "colab": {
          "base_uri": "https://localhost:8080/"
        },
        "id": "8dYfBXb8WSPh",
        "outputId": "c2a7afdb-72aa-494f-cc38-c78494ba6720"
      },
      "execution_count": 71,
      "outputs": [
        {
          "output_type": "execute_result",
          "data": {
            "text/plain": [
              "(25191, 7)"
            ]
          },
          "metadata": {},
          "execution_count": 71
        }
      ]
    },
    {
      "cell_type": "markdown",
      "source": [
        "# **Data Preprocessing**"
      ],
      "metadata": {
        "id": "sjYRYRexYmCE"
      }
    },
    {
      "cell_type": "markdown",
      "source": [
        "**price**"
      ],
      "metadata": {
        "id": "TkbtHl7syM0b"
      }
    },
    {
      "cell_type": "code",
      "source": [
        "#romiving 'dollars' \n",
        "df['price'].replace('dollars','',regex=True, inplace=True)\n",
        "\n",
        "#remove space\n",
        "df['price'] = df['price'].str.strip()\n",
        "\n",
        "#change type data\n",
        "df['price'] = df['price'].astype('int64')"
      ],
      "metadata": {
        "id": "p-oLavz2Ylli"
      },
      "execution_count": 72,
      "outputs": []
    },
    {
      "cell_type": "code",
      "source": [
        "df[df['price'] == 0] #check price == 0"
      ],
      "metadata": {
        "colab": {
          "base_uri": "https://localhost:8080/",
          "height": 269
        },
        "id": "OrWYL1bQirXZ",
        "outputId": "0daa80e2-0d99-42d9-90a8-35497de81190"
      },
      "execution_count": 73,
      "outputs": [
        {
          "output_type": "execute_result",
          "data": {
            "text/plain": [
              "       listing_id     host_name   last_review  price  \\\n",
              "10861    20333471        Anisha  June 24 2019      0   \n",
              "10958    20523843  Martial Loft   May 18 2019      0   \n",
              "11023    20639628       Adeyemi  June 15 2019      0   \n",
              "11024    20639792       Adeyemi  June 21 2019      0   \n",
              "11025    20639914       Adeyemi  June 23 2019      0   \n",
              "11577    21291569        Sergii  June 22 2019      0   \n",
              "11589    21304320        Sergii   May 24 2019      0   \n",
              "\n",
              "                        nbhood_full  \\\n",
              "10861        Bronx, East Morrisania   \n",
              "10958            Brooklyn, Bushwick   \n",
              "11023  Brooklyn, Bedford-Stuyvesant   \n",
              "11024  Brooklyn, Bedford-Stuyvesant   \n",
              "11025  Brooklyn, Bedford-Stuyvesant   \n",
              "11577            Brooklyn, Bushwick   \n",
              "11589            Brooklyn, Bushwick   \n",
              "\n",
              "                                             description     room_type  \n",
              "10861  ‚òÖHostel Style Room | Ideal Traveling Buddies‚òÖ  PRIVATE ROOM  \n",
              "10958    MARTIAL LOFT 3: REDEMPTION (upstairs, 2nd room)  PRIVATE ROOM  \n",
              "11023  Spacious comfortable master bedroom with nice ...  private room  \n",
              "11024  Contemporary bedroom in brownstone with nice view  Private room  \n",
              "11025       Cozy yet spacious private brownstone bedroom  PRIVATE ROOM  \n",
              "11577  Coliving in Brooklyn! Modern design / Shared room   Shared room  \n",
              "11589             Best Coliving space ever! Shared room.   Shared room  "
            ],
            "text/html": [
              "\n",
              "  <div id=\"df-3c1bed05-2a72-4622-bd86-7db670605f2c\">\n",
              "    <div class=\"colab-df-container\">\n",
              "      <div>\n",
              "<style scoped>\n",
              "    .dataframe tbody tr th:only-of-type {\n",
              "        vertical-align: middle;\n",
              "    }\n",
              "\n",
              "    .dataframe tbody tr th {\n",
              "        vertical-align: top;\n",
              "    }\n",
              "\n",
              "    .dataframe thead th {\n",
              "        text-align: right;\n",
              "    }\n",
              "</style>\n",
              "<table border=\"1\" class=\"dataframe\">\n",
              "  <thead>\n",
              "    <tr style=\"text-align: right;\">\n",
              "      <th></th>\n",
              "      <th>listing_id</th>\n",
              "      <th>host_name</th>\n",
              "      <th>last_review</th>\n",
              "      <th>price</th>\n",
              "      <th>nbhood_full</th>\n",
              "      <th>description</th>\n",
              "      <th>room_type</th>\n",
              "    </tr>\n",
              "  </thead>\n",
              "  <tbody>\n",
              "    <tr>\n",
              "      <th>10861</th>\n",
              "      <td>20333471</td>\n",
              "      <td>Anisha</td>\n",
              "      <td>June 24 2019</td>\n",
              "      <td>0</td>\n",
              "      <td>Bronx, East Morrisania</td>\n",
              "      <td>‚òÖHostel Style Room | Ideal Traveling Buddies‚òÖ</td>\n",
              "      <td>PRIVATE ROOM</td>\n",
              "    </tr>\n",
              "    <tr>\n",
              "      <th>10958</th>\n",
              "      <td>20523843</td>\n",
              "      <td>Martial Loft</td>\n",
              "      <td>May 18 2019</td>\n",
              "      <td>0</td>\n",
              "      <td>Brooklyn, Bushwick</td>\n",
              "      <td>MARTIAL LOFT 3: REDEMPTION (upstairs, 2nd room)</td>\n",
              "      <td>PRIVATE ROOM</td>\n",
              "    </tr>\n",
              "    <tr>\n",
              "      <th>11023</th>\n",
              "      <td>20639628</td>\n",
              "      <td>Adeyemi</td>\n",
              "      <td>June 15 2019</td>\n",
              "      <td>0</td>\n",
              "      <td>Brooklyn, Bedford-Stuyvesant</td>\n",
              "      <td>Spacious comfortable master bedroom with nice ...</td>\n",
              "      <td>private room</td>\n",
              "    </tr>\n",
              "    <tr>\n",
              "      <th>11024</th>\n",
              "      <td>20639792</td>\n",
              "      <td>Adeyemi</td>\n",
              "      <td>June 21 2019</td>\n",
              "      <td>0</td>\n",
              "      <td>Brooklyn, Bedford-Stuyvesant</td>\n",
              "      <td>Contemporary bedroom in brownstone with nice view</td>\n",
              "      <td>Private room</td>\n",
              "    </tr>\n",
              "    <tr>\n",
              "      <th>11025</th>\n",
              "      <td>20639914</td>\n",
              "      <td>Adeyemi</td>\n",
              "      <td>June 23 2019</td>\n",
              "      <td>0</td>\n",
              "      <td>Brooklyn, Bedford-Stuyvesant</td>\n",
              "      <td>Cozy yet spacious private brownstone bedroom</td>\n",
              "      <td>PRIVATE ROOM</td>\n",
              "    </tr>\n",
              "    <tr>\n",
              "      <th>11577</th>\n",
              "      <td>21291569</td>\n",
              "      <td>Sergii</td>\n",
              "      <td>June 22 2019</td>\n",
              "      <td>0</td>\n",
              "      <td>Brooklyn, Bushwick</td>\n",
              "      <td>Coliving in Brooklyn! Modern design / Shared room</td>\n",
              "      <td>Shared room</td>\n",
              "    </tr>\n",
              "    <tr>\n",
              "      <th>11589</th>\n",
              "      <td>21304320</td>\n",
              "      <td>Sergii</td>\n",
              "      <td>May 24 2019</td>\n",
              "      <td>0</td>\n",
              "      <td>Brooklyn, Bushwick</td>\n",
              "      <td>Best Coliving space ever! Shared room.</td>\n",
              "      <td>Shared room</td>\n",
              "    </tr>\n",
              "  </tbody>\n",
              "</table>\n",
              "</div>\n",
              "      <button class=\"colab-df-convert\" onclick=\"convertToInteractive('df-3c1bed05-2a72-4622-bd86-7db670605f2c')\"\n",
              "              title=\"Convert this dataframe to an interactive table.\"\n",
              "              style=\"display:none;\">\n",
              "        \n",
              "  <svg xmlns=\"http://www.w3.org/2000/svg\" height=\"24px\"viewBox=\"0 0 24 24\"\n",
              "       width=\"24px\">\n",
              "    <path d=\"M0 0h24v24H0V0z\" fill=\"none\"/>\n",
              "    <path d=\"M18.56 5.44l.94 2.06.94-2.06 2.06-.94-2.06-.94-.94-2.06-.94 2.06-2.06.94zm-11 1L8.5 8.5l.94-2.06 2.06-.94-2.06-.94L8.5 2.5l-.94 2.06-2.06.94zm10 10l.94 2.06.94-2.06 2.06-.94-2.06-.94-.94-2.06-.94 2.06-2.06.94z\"/><path d=\"M17.41 7.96l-1.37-1.37c-.4-.4-.92-.59-1.43-.59-.52 0-1.04.2-1.43.59L10.3 9.45l-7.72 7.72c-.78.78-.78 2.05 0 2.83L4 21.41c.39.39.9.59 1.41.59.51 0 1.02-.2 1.41-.59l7.78-7.78 2.81-2.81c.8-.78.8-2.07 0-2.86zM5.41 20L4 18.59l7.72-7.72 1.47 1.35L5.41 20z\"/>\n",
              "  </svg>\n",
              "      </button>\n",
              "      \n",
              "  <style>\n",
              "    .colab-df-container {\n",
              "      display:flex;\n",
              "      flex-wrap:wrap;\n",
              "      gap: 12px;\n",
              "    }\n",
              "\n",
              "    .colab-df-convert {\n",
              "      background-color: #E8F0FE;\n",
              "      border: none;\n",
              "      border-radius: 50%;\n",
              "      cursor: pointer;\n",
              "      display: none;\n",
              "      fill: #1967D2;\n",
              "      height: 32px;\n",
              "      padding: 0 0 0 0;\n",
              "      width: 32px;\n",
              "    }\n",
              "\n",
              "    .colab-df-convert:hover {\n",
              "      background-color: #E2EBFA;\n",
              "      box-shadow: 0px 1px 2px rgba(60, 64, 67, 0.3), 0px 1px 3px 1px rgba(60, 64, 67, 0.15);\n",
              "      fill: #174EA6;\n",
              "    }\n",
              "\n",
              "    [theme=dark] .colab-df-convert {\n",
              "      background-color: #3B4455;\n",
              "      fill: #D2E3FC;\n",
              "    }\n",
              "\n",
              "    [theme=dark] .colab-df-convert:hover {\n",
              "      background-color: #434B5C;\n",
              "      box-shadow: 0px 1px 3px 1px rgba(0, 0, 0, 0.15);\n",
              "      filter: drop-shadow(0px 1px 2px rgba(0, 0, 0, 0.3));\n",
              "      fill: #FFFFFF;\n",
              "    }\n",
              "  </style>\n",
              "\n",
              "      <script>\n",
              "        const buttonEl =\n",
              "          document.querySelector('#df-3c1bed05-2a72-4622-bd86-7db670605f2c button.colab-df-convert');\n",
              "        buttonEl.style.display =\n",
              "          google.colab.kernel.accessAllowed ? 'block' : 'none';\n",
              "\n",
              "        async function convertToInteractive(key) {\n",
              "          const element = document.querySelector('#df-3c1bed05-2a72-4622-bd86-7db670605f2c');\n",
              "          const dataTable =\n",
              "            await google.colab.kernel.invokeFunction('convertToInteractive',\n",
              "                                                     [key], {});\n",
              "          if (!dataTable) return;\n",
              "\n",
              "          const docLinkHtml = 'Like what you see? Visit the ' +\n",
              "            '<a target=\"_blank\" href=https://colab.research.google.com/notebooks/data_table.ipynb>data table notebook</a>'\n",
              "            + ' to learn more about interactive tables.';\n",
              "          element.innerHTML = '';\n",
              "          dataTable['output_type'] = 'display_data';\n",
              "          await google.colab.output.renderOutput(dataTable, element);\n",
              "          const docLink = document.createElement('div');\n",
              "          docLink.innerHTML = docLinkHtml;\n",
              "          element.appendChild(docLink);\n",
              "        }\n",
              "      </script>\n",
              "    </div>\n",
              "  </div>\n",
              "  "
            ]
          },
          "metadata": {},
          "execution_count": 73
        }
      ]
    },
    {
      "cell_type": "code",
      "source": [
        "df['price'][df['price'] == 0] = df['price'].mean() # Fill in the data using averages."
      ],
      "metadata": {
        "id": "d0L2xUqLiyuo",
        "colab": {
          "base_uri": "https://localhost:8080/"
        },
        "outputId": "a83ccb34-6061-4dac-cec6-4c8df96373bb"
      },
      "execution_count": 74,
      "outputs": [
        {
          "output_type": "stream",
          "name": "stderr",
          "text": [
            "<ipython-input-74-6ffd7972569c>:1: SettingWithCopyWarning: \n",
            "A value is trying to be set on a copy of a slice from a DataFrame\n",
            "\n",
            "See the caveats in the documentation: https://pandas.pydata.org/pandas-docs/stable/user_guide/indexing.html#returning-a-view-versus-a-copy\n",
            "  df['price'][df['price'] == 0] = df['price'].mean() # Fill in the data using averages.\n"
          ]
        }
      ]
    },
    {
      "cell_type": "code",
      "source": [
        "# check \n",
        "df.loc[df['listing_id'].isin([20333471, 20523843, 20639628, 20639792, 20639914, 21291569, 21304320\t])]"
      ],
      "metadata": {
        "colab": {
          "base_uri": "https://localhost:8080/",
          "height": 269
        },
        "id": "GEPRFdafAl_G",
        "outputId": "48c59efe-9faa-4607-d8f6-0209828df444"
      },
      "execution_count": 75,
      "outputs": [
        {
          "output_type": "execute_result",
          "data": {
            "text/plain": [
              "       listing_id     host_name   last_review       price  \\\n",
              "10861    20333471        Anisha  June 24 2019  141.816998   \n",
              "10958    20523843  Martial Loft   May 18 2019  141.816998   \n",
              "11023    20639628       Adeyemi  June 15 2019  141.816998   \n",
              "11024    20639792       Adeyemi  June 21 2019  141.816998   \n",
              "11025    20639914       Adeyemi  June 23 2019  141.816998   \n",
              "11577    21291569        Sergii  June 22 2019  141.816998   \n",
              "11589    21304320        Sergii   May 24 2019  141.816998   \n",
              "\n",
              "                        nbhood_full  \\\n",
              "10861        Bronx, East Morrisania   \n",
              "10958            Brooklyn, Bushwick   \n",
              "11023  Brooklyn, Bedford-Stuyvesant   \n",
              "11024  Brooklyn, Bedford-Stuyvesant   \n",
              "11025  Brooklyn, Bedford-Stuyvesant   \n",
              "11577            Brooklyn, Bushwick   \n",
              "11589            Brooklyn, Bushwick   \n",
              "\n",
              "                                             description     room_type  \n",
              "10861  ‚òÖHostel Style Room | Ideal Traveling Buddies‚òÖ  PRIVATE ROOM  \n",
              "10958    MARTIAL LOFT 3: REDEMPTION (upstairs, 2nd room)  PRIVATE ROOM  \n",
              "11023  Spacious comfortable master bedroom with nice ...  private room  \n",
              "11024  Contemporary bedroom in brownstone with nice view  Private room  \n",
              "11025       Cozy yet spacious private brownstone bedroom  PRIVATE ROOM  \n",
              "11577  Coliving in Brooklyn! Modern design / Shared room   Shared room  \n",
              "11589             Best Coliving space ever! Shared room.   Shared room  "
            ],
            "text/html": [
              "\n",
              "  <div id=\"df-4db23b47-904f-43b6-abf5-d7f3ba0ebd48\">\n",
              "    <div class=\"colab-df-container\">\n",
              "      <div>\n",
              "<style scoped>\n",
              "    .dataframe tbody tr th:only-of-type {\n",
              "        vertical-align: middle;\n",
              "    }\n",
              "\n",
              "    .dataframe tbody tr th {\n",
              "        vertical-align: top;\n",
              "    }\n",
              "\n",
              "    .dataframe thead th {\n",
              "        text-align: right;\n",
              "    }\n",
              "</style>\n",
              "<table border=\"1\" class=\"dataframe\">\n",
              "  <thead>\n",
              "    <tr style=\"text-align: right;\">\n",
              "      <th></th>\n",
              "      <th>listing_id</th>\n",
              "      <th>host_name</th>\n",
              "      <th>last_review</th>\n",
              "      <th>price</th>\n",
              "      <th>nbhood_full</th>\n",
              "      <th>description</th>\n",
              "      <th>room_type</th>\n",
              "    </tr>\n",
              "  </thead>\n",
              "  <tbody>\n",
              "    <tr>\n",
              "      <th>10861</th>\n",
              "      <td>20333471</td>\n",
              "      <td>Anisha</td>\n",
              "      <td>June 24 2019</td>\n",
              "      <td>141.816998</td>\n",
              "      <td>Bronx, East Morrisania</td>\n",
              "      <td>‚òÖHostel Style Room | Ideal Traveling Buddies‚òÖ</td>\n",
              "      <td>PRIVATE ROOM</td>\n",
              "    </tr>\n",
              "    <tr>\n",
              "      <th>10958</th>\n",
              "      <td>20523843</td>\n",
              "      <td>Martial Loft</td>\n",
              "      <td>May 18 2019</td>\n",
              "      <td>141.816998</td>\n",
              "      <td>Brooklyn, Bushwick</td>\n",
              "      <td>MARTIAL LOFT 3: REDEMPTION (upstairs, 2nd room)</td>\n",
              "      <td>PRIVATE ROOM</td>\n",
              "    </tr>\n",
              "    <tr>\n",
              "      <th>11023</th>\n",
              "      <td>20639628</td>\n",
              "      <td>Adeyemi</td>\n",
              "      <td>June 15 2019</td>\n",
              "      <td>141.816998</td>\n",
              "      <td>Brooklyn, Bedford-Stuyvesant</td>\n",
              "      <td>Spacious comfortable master bedroom with nice ...</td>\n",
              "      <td>private room</td>\n",
              "    </tr>\n",
              "    <tr>\n",
              "      <th>11024</th>\n",
              "      <td>20639792</td>\n",
              "      <td>Adeyemi</td>\n",
              "      <td>June 21 2019</td>\n",
              "      <td>141.816998</td>\n",
              "      <td>Brooklyn, Bedford-Stuyvesant</td>\n",
              "      <td>Contemporary bedroom in brownstone with nice view</td>\n",
              "      <td>Private room</td>\n",
              "    </tr>\n",
              "    <tr>\n",
              "      <th>11025</th>\n",
              "      <td>20639914</td>\n",
              "      <td>Adeyemi</td>\n",
              "      <td>June 23 2019</td>\n",
              "      <td>141.816998</td>\n",
              "      <td>Brooklyn, Bedford-Stuyvesant</td>\n",
              "      <td>Cozy yet spacious private brownstone bedroom</td>\n",
              "      <td>PRIVATE ROOM</td>\n",
              "    </tr>\n",
              "    <tr>\n",
              "      <th>11577</th>\n",
              "      <td>21291569</td>\n",
              "      <td>Sergii</td>\n",
              "      <td>June 22 2019</td>\n",
              "      <td>141.816998</td>\n",
              "      <td>Brooklyn, Bushwick</td>\n",
              "      <td>Coliving in Brooklyn! Modern design / Shared room</td>\n",
              "      <td>Shared room</td>\n",
              "    </tr>\n",
              "    <tr>\n",
              "      <th>11589</th>\n",
              "      <td>21304320</td>\n",
              "      <td>Sergii</td>\n",
              "      <td>May 24 2019</td>\n",
              "      <td>141.816998</td>\n",
              "      <td>Brooklyn, Bushwick</td>\n",
              "      <td>Best Coliving space ever! Shared room.</td>\n",
              "      <td>Shared room</td>\n",
              "    </tr>\n",
              "  </tbody>\n",
              "</table>\n",
              "</div>\n",
              "      <button class=\"colab-df-convert\" onclick=\"convertToInteractive('df-4db23b47-904f-43b6-abf5-d7f3ba0ebd48')\"\n",
              "              title=\"Convert this dataframe to an interactive table.\"\n",
              "              style=\"display:none;\">\n",
              "        \n",
              "  <svg xmlns=\"http://www.w3.org/2000/svg\" height=\"24px\"viewBox=\"0 0 24 24\"\n",
              "       width=\"24px\">\n",
              "    <path d=\"M0 0h24v24H0V0z\" fill=\"none\"/>\n",
              "    <path d=\"M18.56 5.44l.94 2.06.94-2.06 2.06-.94-2.06-.94-.94-2.06-.94 2.06-2.06.94zm-11 1L8.5 8.5l.94-2.06 2.06-.94-2.06-.94L8.5 2.5l-.94 2.06-2.06.94zm10 10l.94 2.06.94-2.06 2.06-.94-2.06-.94-.94-2.06-.94 2.06-2.06.94z\"/><path d=\"M17.41 7.96l-1.37-1.37c-.4-.4-.92-.59-1.43-.59-.52 0-1.04.2-1.43.59L10.3 9.45l-7.72 7.72c-.78.78-.78 2.05 0 2.83L4 21.41c.39.39.9.59 1.41.59.51 0 1.02-.2 1.41-.59l7.78-7.78 2.81-2.81c.8-.78.8-2.07 0-2.86zM5.41 20L4 18.59l7.72-7.72 1.47 1.35L5.41 20z\"/>\n",
              "  </svg>\n",
              "      </button>\n",
              "      \n",
              "  <style>\n",
              "    .colab-df-container {\n",
              "      display:flex;\n",
              "      flex-wrap:wrap;\n",
              "      gap: 12px;\n",
              "    }\n",
              "\n",
              "    .colab-df-convert {\n",
              "      background-color: #E8F0FE;\n",
              "      border: none;\n",
              "      border-radius: 50%;\n",
              "      cursor: pointer;\n",
              "      display: none;\n",
              "      fill: #1967D2;\n",
              "      height: 32px;\n",
              "      padding: 0 0 0 0;\n",
              "      width: 32px;\n",
              "    }\n",
              "\n",
              "    .colab-df-convert:hover {\n",
              "      background-color: #E2EBFA;\n",
              "      box-shadow: 0px 1px 2px rgba(60, 64, 67, 0.3), 0px 1px 3px 1px rgba(60, 64, 67, 0.15);\n",
              "      fill: #174EA6;\n",
              "    }\n",
              "\n",
              "    [theme=dark] .colab-df-convert {\n",
              "      background-color: #3B4455;\n",
              "      fill: #D2E3FC;\n",
              "    }\n",
              "\n",
              "    [theme=dark] .colab-df-convert:hover {\n",
              "      background-color: #434B5C;\n",
              "      box-shadow: 0px 1px 3px 1px rgba(0, 0, 0, 0.15);\n",
              "      filter: drop-shadow(0px 1px 2px rgba(0, 0, 0, 0.3));\n",
              "      fill: #FFFFFF;\n",
              "    }\n",
              "  </style>\n",
              "\n",
              "      <script>\n",
              "        const buttonEl =\n",
              "          document.querySelector('#df-4db23b47-904f-43b6-abf5-d7f3ba0ebd48 button.colab-df-convert');\n",
              "        buttonEl.style.display =\n",
              "          google.colab.kernel.accessAllowed ? 'block' : 'none';\n",
              "\n",
              "        async function convertToInteractive(key) {\n",
              "          const element = document.querySelector('#df-4db23b47-904f-43b6-abf5-d7f3ba0ebd48');\n",
              "          const dataTable =\n",
              "            await google.colab.kernel.invokeFunction('convertToInteractive',\n",
              "                                                     [key], {});\n",
              "          if (!dataTable) return;\n",
              "\n",
              "          const docLinkHtml = 'Like what you see? Visit the ' +\n",
              "            '<a target=\"_blank\" href=https://colab.research.google.com/notebooks/data_table.ipynb>data table notebook</a>'\n",
              "            + ' to learn more about interactive tables.';\n",
              "          element.innerHTML = '';\n",
              "          dataTable['output_type'] = 'display_data';\n",
              "          await google.colab.output.renderOutput(dataTable, element);\n",
              "          const docLink = document.createElement('div');\n",
              "          docLink.innerHTML = docLinkHtml;\n",
              "          element.appendChild(docLink);\n",
              "        }\n",
              "      </script>\n",
              "    </div>\n",
              "  </div>\n",
              "  "
            ]
          },
          "metadata": {},
          "execution_count": 75
        }
      ]
    },
    {
      "cell_type": "markdown",
      "source": [
        "**last_review**"
      ],
      "metadata": {
        "id": "uNKYBOZiyTul"
      }
    },
    {
      "cell_type": "code",
      "source": [
        "# convert the 'last_review' column to datetime format\n",
        "df['last_review']= pd.to_datetime(df['last_review']) # yyyy-mm-dd"
      ],
      "metadata": {
        "id": "QMWCYwUemVdi"
      },
      "execution_count": 76,
      "outputs": []
    },
    {
      "cell_type": "code",
      "source": [
        "df.info()"
      ],
      "metadata": {
        "id": "s7zFcM8WpqlS",
        "outputId": "8f138c07-cbdd-49b3-bbae-07fd9593fe06",
        "colab": {
          "base_uri": "https://localhost:8080/"
        }
      },
      "execution_count": 77,
      "outputs": [
        {
          "output_type": "stream",
          "name": "stdout",
          "text": [
            "<class 'pandas.core.frame.DataFrame'>\n",
            "Int64Index: 25191 entries, 0 to 25208\n",
            "Data columns (total 7 columns):\n",
            " #   Column       Non-Null Count  Dtype         \n",
            "---  ------       --------------  -----         \n",
            " 0   listing_id   25191 non-null  int64         \n",
            " 1   host_name    25191 non-null  object        \n",
            " 2   last_review  25191 non-null  datetime64[ns]\n",
            " 3   price        25191 non-null  float64       \n",
            " 4   nbhood_full  25191 non-null  object        \n",
            " 5   description  25191 non-null  object        \n",
            " 6   room_type    25191 non-null  object        \n",
            "dtypes: datetime64[ns](1), float64(1), int64(1), object(4)\n",
            "memory usage: 1.5+ MB\n"
          ]
        }
      ]
    },
    {
      "cell_type": "markdown",
      "source": [
        "**new column ['city' , 'area'] from nbhood_full (neighborhood area name)**"
      ],
      "metadata": {
        "id": "dwWllWFkyVx6"
      }
    },
    {
      "cell_type": "code",
      "source": [
        "# new column 'city' \n",
        "df['city'] = df['nbhood_full'].str.extract('(^.{1,},)') # select regular expression to new column 'city'\n",
        "df['city'].replace(',','',regex=True, inplace=True) # replace ',' to space\n",
        "df['city'] = df['city'].str.strip() # Remove spaces "
      ],
      "metadata": {
        "id": "tN-5sp-wPJ9U"
      },
      "execution_count": 78,
      "outputs": []
    },
    {
      "cell_type": "code",
      "source": [
        "df['city'][df['city'] == 'Staten Island Bay Terrace'] = 'Staten Island'"
      ],
      "metadata": {
        "colab": {
          "base_uri": "https://localhost:8080/"
        },
        "id": "VbcCk2plPMJv",
        "outputId": "3fd59e72-e8e2-4977-cc2c-43ad53385b11"
      },
      "execution_count": 80,
      "outputs": [
        {
          "output_type": "stream",
          "name": "stderr",
          "text": [
            "<ipython-input-80-17f315c5e5c0>:1: SettingWithCopyWarning: \n",
            "A value is trying to be set on a copy of a slice from a DataFrame\n",
            "\n",
            "See the caveats in the documentation: https://pandas.pydata.org/pandas-docs/stable/user_guide/indexing.html#returning-a-view-versus-a-copy\n",
            "  df['city'][df['city'] == 'Staten Island Bay Terrace'] = 'Staten Island'\n"
          ]
        }
      ]
    },
    {
      "cell_type": "code",
      "source": [
        "\n",
        "\n",
        "# new column 'area'\n",
        "df['area'] = df['nbhood_full'].str.extract('(, .{1,})') # select regular expression to new column 'area'\n",
        "df['area'].replace(',','',regex=True, inplace=True) # replace ',' to space\n",
        "df['area'] = df['area'].str.strip() # Remove spaces \n",
        "\n"
      ],
      "metadata": {
        "id": "OGdBIgBetb99"
      },
      "execution_count": 81,
      "outputs": []
    },
    {
      "cell_type": "code",
      "source": [
        "df['city'].sort_values().unique()"
      ],
      "metadata": {
        "colab": {
          "base_uri": "https://localhost:8080/"
        },
        "id": "41kz9f8H044c",
        "outputId": "ca3aa350-a64f-4345-e0fd-60b24ace5597"
      },
      "execution_count": 82,
      "outputs": [
        {
          "output_type": "execute_result",
          "data": {
            "text/plain": [
              "array(['Bronx', 'Brooklyn', 'Manhattan', 'Queens', 'Staten Island'],\n",
              "      dtype=object)"
            ]
          },
          "metadata": {},
          "execution_count": 82
        }
      ]
    },
    {
      "cell_type": "code",
      "source": [
        "df['area'].sort_values().unique()"
      ],
      "metadata": {
        "colab": {
          "base_uri": "https://localhost:8080/"
        },
        "id": "HphAG4vp3VQO",
        "outputId": "49556d2d-09ee-4896-dfab-0c9e1620d88f"
      },
      "execution_count": 83,
      "outputs": [
        {
          "output_type": "execute_result",
          "data": {
            "text/plain": [
              "array(['Allerton', 'Arden Heights', 'Arrochar', 'Arverne', 'Astoria',\n",
              "       'Bath Beach', 'Battery Park City', 'Bay Ridge', 'Bay Terrace',\n",
              "       'Bay Terrace Staten Island', 'Baychester', 'Bayside', 'Bayswater',\n",
              "       'Bedford-Stuyvesant', 'Belle Harbor', 'Bellerose', 'Belmont',\n",
              "       'Bensonhurst', 'Bergen Beach', 'Boerum Hill', 'Borough Park',\n",
              "       'Breezy Point', 'Briarwood', 'Brighton Beach', 'Bronxdale',\n",
              "       'Brooklyn Heights', 'Brownsville', \"Bull's Head\", 'Bushwick',\n",
              "       'Cambria Heights', 'Canarsie', 'Carroll Gardens', 'Castle Hill',\n",
              "       'Castleton Corners', 'Chelsea', 'Chinatown', 'City Island',\n",
              "       'Civic Center', 'Claremont Village', 'Clason Point', 'Clifton',\n",
              "       'Clinton Hill', 'Co-op City', 'Cobble Hill', 'College Point',\n",
              "       'Columbia St', 'Concord', 'Concourse', 'Concourse Village',\n",
              "       'Coney Island', 'Corona', 'Crown Heights', 'Cypress Hills',\n",
              "       'DUMBO', 'Ditmars Steinway', 'Dongan Hills', 'Douglaston',\n",
              "       'Downtown Brooklyn', 'Dyker Heights', 'East Elmhurst',\n",
              "       'East Flatbush', 'East Harlem', 'East Morrisania', 'East New York',\n",
              "       'East Village', 'Eastchester', 'Edenwald', 'Edgemere', 'Elmhurst',\n",
              "       'Eltingville', 'Emerson Hill', 'Far Rockaway', 'Fieldston',\n",
              "       'Financial District', 'Flatbush', 'Flatiron District', 'Flatlands',\n",
              "       'Flushing', 'Fordham', 'Forest Hills', 'Fort Greene',\n",
              "       'Fort Hamilton', 'Fresh Meadows', 'Glendale', 'Gowanus',\n",
              "       'Gramercy', 'Graniteville', 'Grant City', 'Gravesend',\n",
              "       'Great Kills', 'Greenpoint', 'Greenwich Village', 'Grymes Hill',\n",
              "       'Harlem', \"Hell's Kitchen\", 'Highbridge', 'Hollis', 'Holliswood',\n",
              "       'Howard Beach', 'Howland Hook', 'Huguenot', 'Hunts Point',\n",
              "       'Inwood', 'Jackson Heights', 'Jamaica', 'Jamaica Estates',\n",
              "       'Jamaica Hills', 'Kensington', 'Kew Gardens', 'Kew Gardens Hills',\n",
              "       'Kingsbridge', 'Kips Bay', 'Laurelton', 'Lighthouse Hill',\n",
              "       'Little Italy', 'Little Neck', 'Long Island City', 'Longwood',\n",
              "       'Lower East Side', 'Manhattan Beach', 'Marble Hill',\n",
              "       'Mariners Harbor', 'Maspeth', 'Melrose', 'Middle Village',\n",
              "       'Midland Beach', 'Midtown', 'Midwood', 'Mill Basin',\n",
              "       'Morningside Heights', 'Morris Heights', 'Morris Park',\n",
              "       'Morrisania', 'Mott Haven', 'Mount Eden', 'Mount Hope',\n",
              "       'Murray Hill', 'Navy Yard', 'Neponsit', 'New Brighton',\n",
              "       'New Dorp Beach', 'New Springville', 'NoHo', 'Nolita',\n",
              "       'North Riverdale', 'Norwood', 'Oakwood', 'Olinville', 'Ozone Park',\n",
              "       'Park Slope', 'Parkchester', 'Pelham Bay', 'Pelham Gardens',\n",
              "       'Port Morris', 'Port Richmond', \"Prince's Bay\", 'Prospect Heights',\n",
              "       'Prospect-Lefferts Gardens', 'Queens Village', 'Randall Manor',\n",
              "       'Red Hook', 'Rego Park', 'Richmond Hill', 'Richmondtown',\n",
              "       'Ridgewood', 'Riverdale', 'Rockaway Beach', 'Roosevelt Island',\n",
              "       'Rosebank', 'Rosedale', 'Rossville', 'Schuylerville', 'Sea Gate',\n",
              "       'Sheepshead Bay', 'Shore Acres', 'Silver Lake', 'SoHo',\n",
              "       'Soundview', 'South Beach', 'South Ozone Park', 'South Slope',\n",
              "       'Springfield Gardens', 'Spuyten Duyvil', 'St. Albans',\n",
              "       'St. George', 'Stapleton', 'Stuyvesant Town', 'Sunnyside',\n",
              "       'Sunset Park', 'Theater District', 'Throgs Neck', 'Todt Hill',\n",
              "       'Tompkinsville', 'Tottenville', 'Tremont', 'Tribeca',\n",
              "       'Two Bridges', 'Unionport', 'University Heights',\n",
              "       'Upper East Side', 'Upper West Side', 'Van Nest', 'Vinegar Hill',\n",
              "       'Wakefield', 'Washington Heights', 'West Brighton', 'West Farms',\n",
              "       'West Village', 'Westchester Square', 'Whitestone',\n",
              "       'Williamsbridge', 'Williamsburg', 'Willowbrook', 'Windsor Terrace',\n",
              "       'Woodhaven', 'Woodlawn', 'Woodside'], dtype=object)"
            ]
          },
          "metadata": {},
          "execution_count": 83
        }
      ]
    },
    {
      "cell_type": "code",
      "source": [
        "df.head()"
      ],
      "metadata": {
        "colab": {
          "base_uri": "https://localhost:8080/",
          "height": 206
        },
        "id": "Qo0SafEWnr75",
        "outputId": "e55a0996-6ad8-499a-86b0-635661c4e589"
      },
      "execution_count": 84,
      "outputs": [
        {
          "output_type": "execute_result",
          "data": {
            "text/plain": [
              "   listing_id    host_name last_review  price                nbhood_full  \\\n",
              "0        2595     Jennifer  2019-05-21  225.0         Manhattan, Midtown   \n",
              "1        3831  LisaRoxanne  2019-07-05   89.0     Brooklyn, Clinton Hill   \n",
              "2        5099        Chris  2019-06-22  200.0     Manhattan, Murray Hill   \n",
              "3        5178     Shunichi  2019-06-24   79.0  Manhattan, Hell's Kitchen   \n",
              "4        5238          Ben  2019-06-09  150.0       Manhattan, Chinatown   \n",
              "\n",
              "                                 description        room_type       city  \\\n",
              "0                      Skylit Midtown Castle  Entire home/apt  Manhattan   \n",
              "1            Cozy Entire Floor of Brownstone  Entire home/apt   Brooklyn   \n",
              "2  Large Cozy 1 BR Apartment In Midtown East  Entire home/apt  Manhattan   \n",
              "3            Large Furnished Room Near B'way     private room  Manhattan   \n",
              "4         Cute & Cozy Lower East Side 1 bdrm  Entire home/apt  Manhattan   \n",
              "\n",
              "             area  \n",
              "0         Midtown  \n",
              "1    Clinton Hill  \n",
              "2     Murray Hill  \n",
              "3  Hell's Kitchen  \n",
              "4       Chinatown  "
            ],
            "text/html": [
              "\n",
              "  <div id=\"df-cc58da51-a7f1-4721-8fba-1e11c9b8578b\">\n",
              "    <div class=\"colab-df-container\">\n",
              "      <div>\n",
              "<style scoped>\n",
              "    .dataframe tbody tr th:only-of-type {\n",
              "        vertical-align: middle;\n",
              "    }\n",
              "\n",
              "    .dataframe tbody tr th {\n",
              "        vertical-align: top;\n",
              "    }\n",
              "\n",
              "    .dataframe thead th {\n",
              "        text-align: right;\n",
              "    }\n",
              "</style>\n",
              "<table border=\"1\" class=\"dataframe\">\n",
              "  <thead>\n",
              "    <tr style=\"text-align: right;\">\n",
              "      <th></th>\n",
              "      <th>listing_id</th>\n",
              "      <th>host_name</th>\n",
              "      <th>last_review</th>\n",
              "      <th>price</th>\n",
              "      <th>nbhood_full</th>\n",
              "      <th>description</th>\n",
              "      <th>room_type</th>\n",
              "      <th>city</th>\n",
              "      <th>area</th>\n",
              "    </tr>\n",
              "  </thead>\n",
              "  <tbody>\n",
              "    <tr>\n",
              "      <th>0</th>\n",
              "      <td>2595</td>\n",
              "      <td>Jennifer</td>\n",
              "      <td>2019-05-21</td>\n",
              "      <td>225.0</td>\n",
              "      <td>Manhattan, Midtown</td>\n",
              "      <td>Skylit Midtown Castle</td>\n",
              "      <td>Entire home/apt</td>\n",
              "      <td>Manhattan</td>\n",
              "      <td>Midtown</td>\n",
              "    </tr>\n",
              "    <tr>\n",
              "      <th>1</th>\n",
              "      <td>3831</td>\n",
              "      <td>LisaRoxanne</td>\n",
              "      <td>2019-07-05</td>\n",
              "      <td>89.0</td>\n",
              "      <td>Brooklyn, Clinton Hill</td>\n",
              "      <td>Cozy Entire Floor of Brownstone</td>\n",
              "      <td>Entire home/apt</td>\n",
              "      <td>Brooklyn</td>\n",
              "      <td>Clinton Hill</td>\n",
              "    </tr>\n",
              "    <tr>\n",
              "      <th>2</th>\n",
              "      <td>5099</td>\n",
              "      <td>Chris</td>\n",
              "      <td>2019-06-22</td>\n",
              "      <td>200.0</td>\n",
              "      <td>Manhattan, Murray Hill</td>\n",
              "      <td>Large Cozy 1 BR Apartment In Midtown East</td>\n",
              "      <td>Entire home/apt</td>\n",
              "      <td>Manhattan</td>\n",
              "      <td>Murray Hill</td>\n",
              "    </tr>\n",
              "    <tr>\n",
              "      <th>3</th>\n",
              "      <td>5178</td>\n",
              "      <td>Shunichi</td>\n",
              "      <td>2019-06-24</td>\n",
              "      <td>79.0</td>\n",
              "      <td>Manhattan, Hell's Kitchen</td>\n",
              "      <td>Large Furnished Room Near B'way</td>\n",
              "      <td>private room</td>\n",
              "      <td>Manhattan</td>\n",
              "      <td>Hell's Kitchen</td>\n",
              "    </tr>\n",
              "    <tr>\n",
              "      <th>4</th>\n",
              "      <td>5238</td>\n",
              "      <td>Ben</td>\n",
              "      <td>2019-06-09</td>\n",
              "      <td>150.0</td>\n",
              "      <td>Manhattan, Chinatown</td>\n",
              "      <td>Cute &amp; Cozy Lower East Side 1 bdrm</td>\n",
              "      <td>Entire home/apt</td>\n",
              "      <td>Manhattan</td>\n",
              "      <td>Chinatown</td>\n",
              "    </tr>\n",
              "  </tbody>\n",
              "</table>\n",
              "</div>\n",
              "      <button class=\"colab-df-convert\" onclick=\"convertToInteractive('df-cc58da51-a7f1-4721-8fba-1e11c9b8578b')\"\n",
              "              title=\"Convert this dataframe to an interactive table.\"\n",
              "              style=\"display:none;\">\n",
              "        \n",
              "  <svg xmlns=\"http://www.w3.org/2000/svg\" height=\"24px\"viewBox=\"0 0 24 24\"\n",
              "       width=\"24px\">\n",
              "    <path d=\"M0 0h24v24H0V0z\" fill=\"none\"/>\n",
              "    <path d=\"M18.56 5.44l.94 2.06.94-2.06 2.06-.94-2.06-.94-.94-2.06-.94 2.06-2.06.94zm-11 1L8.5 8.5l.94-2.06 2.06-.94-2.06-.94L8.5 2.5l-.94 2.06-2.06.94zm10 10l.94 2.06.94-2.06 2.06-.94-2.06-.94-.94-2.06-.94 2.06-2.06.94z\"/><path d=\"M17.41 7.96l-1.37-1.37c-.4-.4-.92-.59-1.43-.59-.52 0-1.04.2-1.43.59L10.3 9.45l-7.72 7.72c-.78.78-.78 2.05 0 2.83L4 21.41c.39.39.9.59 1.41.59.51 0 1.02-.2 1.41-.59l7.78-7.78 2.81-2.81c.8-.78.8-2.07 0-2.86zM5.41 20L4 18.59l7.72-7.72 1.47 1.35L5.41 20z\"/>\n",
              "  </svg>\n",
              "      </button>\n",
              "      \n",
              "  <style>\n",
              "    .colab-df-container {\n",
              "      display:flex;\n",
              "      flex-wrap:wrap;\n",
              "      gap: 12px;\n",
              "    }\n",
              "\n",
              "    .colab-df-convert {\n",
              "      background-color: #E8F0FE;\n",
              "      border: none;\n",
              "      border-radius: 50%;\n",
              "      cursor: pointer;\n",
              "      display: none;\n",
              "      fill: #1967D2;\n",
              "      height: 32px;\n",
              "      padding: 0 0 0 0;\n",
              "      width: 32px;\n",
              "    }\n",
              "\n",
              "    .colab-df-convert:hover {\n",
              "      background-color: #E2EBFA;\n",
              "      box-shadow: 0px 1px 2px rgba(60, 64, 67, 0.3), 0px 1px 3px 1px rgba(60, 64, 67, 0.15);\n",
              "      fill: #174EA6;\n",
              "    }\n",
              "\n",
              "    [theme=dark] .colab-df-convert {\n",
              "      background-color: #3B4455;\n",
              "      fill: #D2E3FC;\n",
              "    }\n",
              "\n",
              "    [theme=dark] .colab-df-convert:hover {\n",
              "      background-color: #434B5C;\n",
              "      box-shadow: 0px 1px 3px 1px rgba(0, 0, 0, 0.15);\n",
              "      filter: drop-shadow(0px 1px 2px rgba(0, 0, 0, 0.3));\n",
              "      fill: #FFFFFF;\n",
              "    }\n",
              "  </style>\n",
              "\n",
              "      <script>\n",
              "        const buttonEl =\n",
              "          document.querySelector('#df-cc58da51-a7f1-4721-8fba-1e11c9b8578b button.colab-df-convert');\n",
              "        buttonEl.style.display =\n",
              "          google.colab.kernel.accessAllowed ? 'block' : 'none';\n",
              "\n",
              "        async function convertToInteractive(key) {\n",
              "          const element = document.querySelector('#df-cc58da51-a7f1-4721-8fba-1e11c9b8578b');\n",
              "          const dataTable =\n",
              "            await google.colab.kernel.invokeFunction('convertToInteractive',\n",
              "                                                     [key], {});\n",
              "          if (!dataTable) return;\n",
              "\n",
              "          const docLinkHtml = 'Like what you see? Visit the ' +\n",
              "            '<a target=\"_blank\" href=https://colab.research.google.com/notebooks/data_table.ipynb>data table notebook</a>'\n",
              "            + ' to learn more about interactive tables.';\n",
              "          element.innerHTML = '';\n",
              "          dataTable['output_type'] = 'display_data';\n",
              "          await google.colab.output.renderOutput(dataTable, element);\n",
              "          const docLink = document.createElement('div');\n",
              "          docLink.innerHTML = docLinkHtml;\n",
              "          element.appendChild(docLink);\n",
              "        }\n",
              "      </script>\n",
              "    </div>\n",
              "  </div>\n",
              "  "
            ]
          },
          "metadata": {},
          "execution_count": 84
        }
      ]
    },
    {
      "cell_type": "code",
      "source": [
        "df.isnull().sum()"
      ],
      "metadata": {
        "colab": {
          "base_uri": "https://localhost:8080/"
        },
        "id": "oQMm2nNL1MEM",
        "outputId": "550d1acb-7541-4d92-d2b1-1fcd4b433ca6"
      },
      "execution_count": 85,
      "outputs": [
        {
          "output_type": "execute_result",
          "data": {
            "text/plain": [
              "listing_id     0\n",
              "host_name      0\n",
              "last_review    0\n",
              "price          0\n",
              "nbhood_full    0\n",
              "description    0\n",
              "room_type      0\n",
              "city           0\n",
              "area           0\n",
              "dtype: int64"
            ]
          },
          "metadata": {},
          "execution_count": 85
        }
      ]
    },
    {
      "cell_type": "markdown",
      "source": [
        "**room_type**"
      ],
      "metadata": {
        "id": "n4-saHLQyeQ7"
      }
    },
    {
      "cell_type": "code",
      "source": [
        "df['room_type'].sort_values().unique()"
      ],
      "metadata": {
        "colab": {
          "base_uri": "https://localhost:8080/"
        },
        "id": "xQsRl4-VyglM",
        "outputId": "48733138-25d9-4799-bfc3-ae4807e1f767"
      },
      "execution_count": 86,
      "outputs": [
        {
          "output_type": "execute_result",
          "data": {
            "text/plain": [
              "array(['ENTIRE HOME/APT', 'Entire home/apt', 'PRIVATE ROOM',\n",
              "       'Private room', 'SHARED ROOM', 'Shared room', 'entire home/apt',\n",
              "       'private room', 'shared room'], dtype=object)"
            ]
          },
          "metadata": {},
          "execution_count": 86
        }
      ]
    },
    {
      "cell_type": "code",
      "source": [
        "df['room_type'] = df['room_type'].str.lower() # change value to lower case"
      ],
      "metadata": {
        "id": "lBeV9JPIzTPz"
      },
      "execution_count": 87,
      "outputs": []
    },
    {
      "cell_type": "code",
      "source": [
        "df['room_type'].sort_values().unique()"
      ],
      "metadata": {
        "colab": {
          "base_uri": "https://localhost:8080/"
        },
        "id": "LYmgVbNAzp1O",
        "outputId": "002f0dbd-a15d-4dbe-e103-a4c681b12a07"
      },
      "execution_count": 88,
      "outputs": [
        {
          "output_type": "execute_result",
          "data": {
            "text/plain": [
              "array(['entire home/apt', 'private room', 'shared room'], dtype=object)"
            ]
          },
          "metadata": {},
          "execution_count": 88
        }
      ]
    },
    {
      "cell_type": "markdown",
      "source": [
        "**check duplicated**"
      ],
      "metadata": {
        "id": "InN7PkMzg__z"
      }
    },
    {
      "cell_type": "code",
      "source": [
        "df[df.duplicated()] # no duplicate values"
      ],
      "metadata": {
        "colab": {
          "base_uri": "https://localhost:8080/",
          "height": 49
        },
        "id": "4Kj7_LuThGjt",
        "outputId": "f47d8e37-3ae4-4416-c64a-871ac891bd4c"
      },
      "execution_count": 89,
      "outputs": [
        {
          "output_type": "execute_result",
          "data": {
            "text/plain": [
              "Empty DataFrame\n",
              "Columns: [listing_id, host_name, last_review, price, nbhood_full, description, room_type, city, area]\n",
              "Index: []"
            ],
            "text/html": [
              "\n",
              "  <div id=\"df-49d098b3-f71f-42a1-9504-b170c33b9815\">\n",
              "    <div class=\"colab-df-container\">\n",
              "      <div>\n",
              "<style scoped>\n",
              "    .dataframe tbody tr th:only-of-type {\n",
              "        vertical-align: middle;\n",
              "    }\n",
              "\n",
              "    .dataframe tbody tr th {\n",
              "        vertical-align: top;\n",
              "    }\n",
              "\n",
              "    .dataframe thead th {\n",
              "        text-align: right;\n",
              "    }\n",
              "</style>\n",
              "<table border=\"1\" class=\"dataframe\">\n",
              "  <thead>\n",
              "    <tr style=\"text-align: right;\">\n",
              "      <th></th>\n",
              "      <th>listing_id</th>\n",
              "      <th>host_name</th>\n",
              "      <th>last_review</th>\n",
              "      <th>price</th>\n",
              "      <th>nbhood_full</th>\n",
              "      <th>description</th>\n",
              "      <th>room_type</th>\n",
              "      <th>city</th>\n",
              "      <th>area</th>\n",
              "    </tr>\n",
              "  </thead>\n",
              "  <tbody>\n",
              "  </tbody>\n",
              "</table>\n",
              "</div>\n",
              "      <button class=\"colab-df-convert\" onclick=\"convertToInteractive('df-49d098b3-f71f-42a1-9504-b170c33b9815')\"\n",
              "              title=\"Convert this dataframe to an interactive table.\"\n",
              "              style=\"display:none;\">\n",
              "        \n",
              "  <svg xmlns=\"http://www.w3.org/2000/svg\" height=\"24px\"viewBox=\"0 0 24 24\"\n",
              "       width=\"24px\">\n",
              "    <path d=\"M0 0h24v24H0V0z\" fill=\"none\"/>\n",
              "    <path d=\"M18.56 5.44l.94 2.06.94-2.06 2.06-.94-2.06-.94-.94-2.06-.94 2.06-2.06.94zm-11 1L8.5 8.5l.94-2.06 2.06-.94-2.06-.94L8.5 2.5l-.94 2.06-2.06.94zm10 10l.94 2.06.94-2.06 2.06-.94-2.06-.94-.94-2.06-.94 2.06-2.06.94z\"/><path d=\"M17.41 7.96l-1.37-1.37c-.4-.4-.92-.59-1.43-.59-.52 0-1.04.2-1.43.59L10.3 9.45l-7.72 7.72c-.78.78-.78 2.05 0 2.83L4 21.41c.39.39.9.59 1.41.59.51 0 1.02-.2 1.41-.59l7.78-7.78 2.81-2.81c.8-.78.8-2.07 0-2.86zM5.41 20L4 18.59l7.72-7.72 1.47 1.35L5.41 20z\"/>\n",
              "  </svg>\n",
              "      </button>\n",
              "      \n",
              "  <style>\n",
              "    .colab-df-container {\n",
              "      display:flex;\n",
              "      flex-wrap:wrap;\n",
              "      gap: 12px;\n",
              "    }\n",
              "\n",
              "    .colab-df-convert {\n",
              "      background-color: #E8F0FE;\n",
              "      border: none;\n",
              "      border-radius: 50%;\n",
              "      cursor: pointer;\n",
              "      display: none;\n",
              "      fill: #1967D2;\n",
              "      height: 32px;\n",
              "      padding: 0 0 0 0;\n",
              "      width: 32px;\n",
              "    }\n",
              "\n",
              "    .colab-df-convert:hover {\n",
              "      background-color: #E2EBFA;\n",
              "      box-shadow: 0px 1px 2px rgba(60, 64, 67, 0.3), 0px 1px 3px 1px rgba(60, 64, 67, 0.15);\n",
              "      fill: #174EA6;\n",
              "    }\n",
              "\n",
              "    [theme=dark] .colab-df-convert {\n",
              "      background-color: #3B4455;\n",
              "      fill: #D2E3FC;\n",
              "    }\n",
              "\n",
              "    [theme=dark] .colab-df-convert:hover {\n",
              "      background-color: #434B5C;\n",
              "      box-shadow: 0px 1px 3px 1px rgba(0, 0, 0, 0.15);\n",
              "      filter: drop-shadow(0px 1px 2px rgba(0, 0, 0, 0.3));\n",
              "      fill: #FFFFFF;\n",
              "    }\n",
              "  </style>\n",
              "\n",
              "      <script>\n",
              "        const buttonEl =\n",
              "          document.querySelector('#df-49d098b3-f71f-42a1-9504-b170c33b9815 button.colab-df-convert');\n",
              "        buttonEl.style.display =\n",
              "          google.colab.kernel.accessAllowed ? 'block' : 'none';\n",
              "\n",
              "        async function convertToInteractive(key) {\n",
              "          const element = document.querySelector('#df-49d098b3-f71f-42a1-9504-b170c33b9815');\n",
              "          const dataTable =\n",
              "            await google.colab.kernel.invokeFunction('convertToInteractive',\n",
              "                                                     [key], {});\n",
              "          if (!dataTable) return;\n",
              "\n",
              "          const docLinkHtml = 'Like what you see? Visit the ' +\n",
              "            '<a target=\"_blank\" href=https://colab.research.google.com/notebooks/data_table.ipynb>data table notebook</a>'\n",
              "            + ' to learn more about interactive tables.';\n",
              "          element.innerHTML = '';\n",
              "          dataTable['output_type'] = 'display_data';\n",
              "          await google.colab.output.renderOutput(dataTable, element);\n",
              "          const docLink = document.createElement('div');\n",
              "          docLink.innerHTML = docLinkHtml;\n",
              "          element.appendChild(docLink);\n",
              "        }\n",
              "      </script>\n",
              "    </div>\n",
              "  </div>\n",
              "  "
            ]
          },
          "metadata": {},
          "execution_count": 89
        }
      ]
    },
    {
      "cell_type": "code",
      "source": [
        "df.head()"
      ],
      "metadata": {
        "colab": {
          "base_uri": "https://localhost:8080/",
          "height": 206
        },
        "id": "db8g9FwkzkTa",
        "outputId": "62f49023-a013-49d3-ab38-15a4b378eac5"
      },
      "execution_count": 90,
      "outputs": [
        {
          "output_type": "execute_result",
          "data": {
            "text/plain": [
              "   listing_id    host_name last_review  price                nbhood_full  \\\n",
              "0        2595     Jennifer  2019-05-21  225.0         Manhattan, Midtown   \n",
              "1        3831  LisaRoxanne  2019-07-05   89.0     Brooklyn, Clinton Hill   \n",
              "2        5099        Chris  2019-06-22  200.0     Manhattan, Murray Hill   \n",
              "3        5178     Shunichi  2019-06-24   79.0  Manhattan, Hell's Kitchen   \n",
              "4        5238          Ben  2019-06-09  150.0       Manhattan, Chinatown   \n",
              "\n",
              "                                 description        room_type       city  \\\n",
              "0                      Skylit Midtown Castle  entire home/apt  Manhattan   \n",
              "1            Cozy Entire Floor of Brownstone  entire home/apt   Brooklyn   \n",
              "2  Large Cozy 1 BR Apartment In Midtown East  entire home/apt  Manhattan   \n",
              "3            Large Furnished Room Near B'way     private room  Manhattan   \n",
              "4         Cute & Cozy Lower East Side 1 bdrm  entire home/apt  Manhattan   \n",
              "\n",
              "             area  \n",
              "0         Midtown  \n",
              "1    Clinton Hill  \n",
              "2     Murray Hill  \n",
              "3  Hell's Kitchen  \n",
              "4       Chinatown  "
            ],
            "text/html": [
              "\n",
              "  <div id=\"df-e640dae2-41ef-46b0-8394-853ccc67abd8\">\n",
              "    <div class=\"colab-df-container\">\n",
              "      <div>\n",
              "<style scoped>\n",
              "    .dataframe tbody tr th:only-of-type {\n",
              "        vertical-align: middle;\n",
              "    }\n",
              "\n",
              "    .dataframe tbody tr th {\n",
              "        vertical-align: top;\n",
              "    }\n",
              "\n",
              "    .dataframe thead th {\n",
              "        text-align: right;\n",
              "    }\n",
              "</style>\n",
              "<table border=\"1\" class=\"dataframe\">\n",
              "  <thead>\n",
              "    <tr style=\"text-align: right;\">\n",
              "      <th></th>\n",
              "      <th>listing_id</th>\n",
              "      <th>host_name</th>\n",
              "      <th>last_review</th>\n",
              "      <th>price</th>\n",
              "      <th>nbhood_full</th>\n",
              "      <th>description</th>\n",
              "      <th>room_type</th>\n",
              "      <th>city</th>\n",
              "      <th>area</th>\n",
              "    </tr>\n",
              "  </thead>\n",
              "  <tbody>\n",
              "    <tr>\n",
              "      <th>0</th>\n",
              "      <td>2595</td>\n",
              "      <td>Jennifer</td>\n",
              "      <td>2019-05-21</td>\n",
              "      <td>225.0</td>\n",
              "      <td>Manhattan, Midtown</td>\n",
              "      <td>Skylit Midtown Castle</td>\n",
              "      <td>entire home/apt</td>\n",
              "      <td>Manhattan</td>\n",
              "      <td>Midtown</td>\n",
              "    </tr>\n",
              "    <tr>\n",
              "      <th>1</th>\n",
              "      <td>3831</td>\n",
              "      <td>LisaRoxanne</td>\n",
              "      <td>2019-07-05</td>\n",
              "      <td>89.0</td>\n",
              "      <td>Brooklyn, Clinton Hill</td>\n",
              "      <td>Cozy Entire Floor of Brownstone</td>\n",
              "      <td>entire home/apt</td>\n",
              "      <td>Brooklyn</td>\n",
              "      <td>Clinton Hill</td>\n",
              "    </tr>\n",
              "    <tr>\n",
              "      <th>2</th>\n",
              "      <td>5099</td>\n",
              "      <td>Chris</td>\n",
              "      <td>2019-06-22</td>\n",
              "      <td>200.0</td>\n",
              "      <td>Manhattan, Murray Hill</td>\n",
              "      <td>Large Cozy 1 BR Apartment In Midtown East</td>\n",
              "      <td>entire home/apt</td>\n",
              "      <td>Manhattan</td>\n",
              "      <td>Murray Hill</td>\n",
              "    </tr>\n",
              "    <tr>\n",
              "      <th>3</th>\n",
              "      <td>5178</td>\n",
              "      <td>Shunichi</td>\n",
              "      <td>2019-06-24</td>\n",
              "      <td>79.0</td>\n",
              "      <td>Manhattan, Hell's Kitchen</td>\n",
              "      <td>Large Furnished Room Near B'way</td>\n",
              "      <td>private room</td>\n",
              "      <td>Manhattan</td>\n",
              "      <td>Hell's Kitchen</td>\n",
              "    </tr>\n",
              "    <tr>\n",
              "      <th>4</th>\n",
              "      <td>5238</td>\n",
              "      <td>Ben</td>\n",
              "      <td>2019-06-09</td>\n",
              "      <td>150.0</td>\n",
              "      <td>Manhattan, Chinatown</td>\n",
              "      <td>Cute &amp; Cozy Lower East Side 1 bdrm</td>\n",
              "      <td>entire home/apt</td>\n",
              "      <td>Manhattan</td>\n",
              "      <td>Chinatown</td>\n",
              "    </tr>\n",
              "  </tbody>\n",
              "</table>\n",
              "</div>\n",
              "      <button class=\"colab-df-convert\" onclick=\"convertToInteractive('df-e640dae2-41ef-46b0-8394-853ccc67abd8')\"\n",
              "              title=\"Convert this dataframe to an interactive table.\"\n",
              "              style=\"display:none;\">\n",
              "        \n",
              "  <svg xmlns=\"http://www.w3.org/2000/svg\" height=\"24px\"viewBox=\"0 0 24 24\"\n",
              "       width=\"24px\">\n",
              "    <path d=\"M0 0h24v24H0V0z\" fill=\"none\"/>\n",
              "    <path d=\"M18.56 5.44l.94 2.06.94-2.06 2.06-.94-2.06-.94-.94-2.06-.94 2.06-2.06.94zm-11 1L8.5 8.5l.94-2.06 2.06-.94-2.06-.94L8.5 2.5l-.94 2.06-2.06.94zm10 10l.94 2.06.94-2.06 2.06-.94-2.06-.94-.94-2.06-.94 2.06-2.06.94z\"/><path d=\"M17.41 7.96l-1.37-1.37c-.4-.4-.92-.59-1.43-.59-.52 0-1.04.2-1.43.59L10.3 9.45l-7.72 7.72c-.78.78-.78 2.05 0 2.83L4 21.41c.39.39.9.59 1.41.59.51 0 1.02-.2 1.41-.59l7.78-7.78 2.81-2.81c.8-.78.8-2.07 0-2.86zM5.41 20L4 18.59l7.72-7.72 1.47 1.35L5.41 20z\"/>\n",
              "  </svg>\n",
              "      </button>\n",
              "      \n",
              "  <style>\n",
              "    .colab-df-container {\n",
              "      display:flex;\n",
              "      flex-wrap:wrap;\n",
              "      gap: 12px;\n",
              "    }\n",
              "\n",
              "    .colab-df-convert {\n",
              "      background-color: #E8F0FE;\n",
              "      border: none;\n",
              "      border-radius: 50%;\n",
              "      cursor: pointer;\n",
              "      display: none;\n",
              "      fill: #1967D2;\n",
              "      height: 32px;\n",
              "      padding: 0 0 0 0;\n",
              "      width: 32px;\n",
              "    }\n",
              "\n",
              "    .colab-df-convert:hover {\n",
              "      background-color: #E2EBFA;\n",
              "      box-shadow: 0px 1px 2px rgba(60, 64, 67, 0.3), 0px 1px 3px 1px rgba(60, 64, 67, 0.15);\n",
              "      fill: #174EA6;\n",
              "    }\n",
              "\n",
              "    [theme=dark] .colab-df-convert {\n",
              "      background-color: #3B4455;\n",
              "      fill: #D2E3FC;\n",
              "    }\n",
              "\n",
              "    [theme=dark] .colab-df-convert:hover {\n",
              "      background-color: #434B5C;\n",
              "      box-shadow: 0px 1px 3px 1px rgba(0, 0, 0, 0.15);\n",
              "      filter: drop-shadow(0px 1px 2px rgba(0, 0, 0, 0.3));\n",
              "      fill: #FFFFFF;\n",
              "    }\n",
              "  </style>\n",
              "\n",
              "      <script>\n",
              "        const buttonEl =\n",
              "          document.querySelector('#df-e640dae2-41ef-46b0-8394-853ccc67abd8 button.colab-df-convert');\n",
              "        buttonEl.style.display =\n",
              "          google.colab.kernel.accessAllowed ? 'block' : 'none';\n",
              "\n",
              "        async function convertToInteractive(key) {\n",
              "          const element = document.querySelector('#df-e640dae2-41ef-46b0-8394-853ccc67abd8');\n",
              "          const dataTable =\n",
              "            await google.colab.kernel.invokeFunction('convertToInteractive',\n",
              "                                                     [key], {});\n",
              "          if (!dataTable) return;\n",
              "\n",
              "          const docLinkHtml = 'Like what you see? Visit the ' +\n",
              "            '<a target=\"_blank\" href=https://colab.research.google.com/notebooks/data_table.ipynb>data table notebook</a>'\n",
              "            + ' to learn more about interactive tables.';\n",
              "          element.innerHTML = '';\n",
              "          dataTable['output_type'] = 'display_data';\n",
              "          await google.colab.output.renderOutput(dataTable, element);\n",
              "          const docLink = document.createElement('div');\n",
              "          docLink.innerHTML = docLinkHtml;\n",
              "          element.appendChild(docLink);\n",
              "        }\n",
              "      </script>\n",
              "    </div>\n",
              "  </div>\n",
              "  "
            ]
          },
          "metadata": {},
          "execution_count": 90
        }
      ]
    },
    {
      "cell_type": "markdown",
      "source": [
        "# **Visualization**"
      ],
      "metadata": {
        "id": "RgPyllAgA6tW"
      }
    },
    {
      "cell_type": "code",
      "source": [
        "import numpy as np\n",
        "import matplotlib.pyplot as plt\n",
        "import seaborn as sns  "
      ],
      "metadata": {
        "id": "BfDS9fKJkl9L"
      },
      "execution_count": 91,
      "outputs": []
    },
    {
      "cell_type": "markdown",
      "source": [
        "**ราคาเฉลี่ยต่อคืนของที่พัก Airbnb ในนิวยอร์ค**"
      ],
      "metadata": {
        "id": "S1WrWNDJXiAq"
      }
    },
    {
      "cell_type": "code",
      "source": [
        "print(\"ราคาเฉลี่ยต่อคืนของที่พัก Airbnb ในนิวยอร์คคือ ${:.2f}\".format(df['price'].mean()))"
      ],
      "metadata": {
        "colab": {
          "base_uri": "https://localhost:8080/"
        },
        "id": "_l-THVqyXhdq",
        "outputId": "4d9bf67a-0889-4b2c-f274-0bebeb2a30d2"
      },
      "execution_count": 124,
      "outputs": [
        {
          "output_type": "stream",
          "name": "stdout",
          "text": [
            "ราคาเฉลี่ยต่อคืนของที่พัก Airbnb ในนิวยอร์คคือ $141.86\n"
          ]
        }
      ]
    },
    {
      "cell_type": "markdown",
      "source": [
        "**ราคาเฉลี่ยของที่พัก Airbnb ต่อเดือน เมื่อเปรียบเทียบกับตลาดเช่าบุคคล**"
      ],
      "metadata": {
        "id": "TtwN2BKkXx0K"
      }
    },
    {
      "cell_type": "code",
      "source": [
        "price_pre_month = df.copy()\n",
        "price_pre_month['price_pre_month'] = price_pre_month['price'] * 365 / 12\n",
        "print(\"ราคาเฉลี่ยของที่พัก Airbnb ต่อเดือน คือ ${:.2f} เมื่อเปรียบเทียบกับตลาดเช่าส่วนบุคคล (private rental market) {:}\".format(price_pre_month['price_pre_month'].mean(),\"$3100.00\"))"
      ],
      "metadata": {
        "colab": {
          "base_uri": "https://localhost:8080/"
        },
        "id": "rBsBhW-xYNGt",
        "outputId": "d7786b37-ac8d-4bc1-8632-c8039d1c532b"
      },
      "execution_count": 128,
      "outputs": [
        {
          "output_type": "stream",
          "name": "stdout",
          "text": [
            "ราคาเฉลี่ยของที่พัก Airbnb ต่อเดือน คือ $4314.80 เมื่อเปรียบเทียบกับตลาดเช่าส่วนบุคคล (private rental market) $3100.00\n"
          ]
        }
      ]
    },
    {
      "cell_type": "markdown",
      "source": [
        "**แสดงข้อมูลจำนวนประเภทของห้องแต่ละประเภทที่ถูกจองใน New York City Airbnb Market**"
      ],
      "metadata": {
        "id": "837rzWbTUEON"
      }
    },
    {
      "cell_type": "code",
      "source": [
        "df['room_type'].value_counts().nlargest(40).plot(kind='bar', figsize=(10,5))"
      ],
      "metadata": {
        "colab": {
          "base_uri": "https://localhost:8080/",
          "height": 407
        },
        "id": "QiCZfUMwUDzY",
        "outputId": "38417faf-4f49-4d18-87b1-30836fc9666f"
      },
      "execution_count": 110,
      "outputs": [
        {
          "output_type": "execute_result",
          "data": {
            "text/plain": [
              "<matplotlib.axes._subplots.AxesSubplot at 0x7f1406079040>"
            ]
          },
          "metadata": {},
          "execution_count": 110
        },
        {
          "output_type": "display_data",
          "data": {
            "text/plain": [
              "<Figure size 720x360 with 1 Axes>"
            ],
            "image/png": "[encoded data removed]"
          },
          "metadata": {
            "needs_background": "light"
          }
        }
      ]
    },
    {
      "cell_type": "markdown",
      "source": [
        "**แสดงข้อมูลจำนวนเมืองแต่ละเมืองใน New York City Airbnb Market**"
      ],
      "metadata": {
        "id": "zn2Nf8YIUq51"
      }
    },
    {
      "cell_type": "code",
      "source": [
        "df['city'].value_counts().nlargest(40).plot(kind='bar', figsize=(10,5))"
      ],
      "metadata": {
        "colab": {
          "base_uri": "https://localhost:8080/",
          "height": 392
        },
        "id": "37eEFutVUqTA",
        "outputId": "73238f77-b5f6-4632-cc06-118a80af00f2"
      },
      "execution_count": 111,
      "outputs": [
        {
          "output_type": "execute_result",
          "data": {
            "text/plain": [
              "<matplotlib.axes._subplots.AxesSubplot at 0x7f1406057ca0>"
            ]
          },
          "metadata": {},
          "execution_count": 111
        },
        {
          "output_type": "display_data",
          "data": {
            "text/plain": [
              "<Figure size 720x360 with 1 Axes>"
            ],
            "image/png": "[encoded data removed]"
          },
          "metadata": {
            "needs_background": "light"
          }
        }
      ]
    },
    {
      "cell_type": "markdown",
      "source": [
        "**เปรียบเทียบจำนวนประเภทห้องแต่ละประเภท Airbnb ระหว่าง 5 เมืองในนิวยอร์ค**"
      ],
      "metadata": {
        "id": "cRjL8yN1S_KM"
      }
    },
    {
      "cell_type": "code",
      "source": [
        "city = df[['city','room_type']].copy()\n",
        "city['count'] = np.zeros(len(city))\n",
        "city = city.groupby(['city', 'room_type']).count().reset_index()\n",
        "\n",
        "city"
      ],
      "metadata": {
        "colab": {
          "base_uri": "https://localhost:8080/",
          "height": 519
        },
        "id": "vU1_hxSKM_BN",
        "outputId": "70c95318-0601-4dc1-961d-61481f89f799"
      },
      "execution_count": 120,
      "outputs": [
        {
          "output_type": "execute_result",
          "data": {
            "text/plain": [
              "             city        room_type  count\n",
              "0           Bronx  entire home/apt    260\n",
              "1           Bronx     private room    404\n",
              "2           Bronx      shared room     33\n",
              "3        Brooklyn  entire home/apt   5365\n",
              "4        Brooklyn     private room   4903\n",
              "5        Brooklyn      shared room    189\n",
              "6       Manhattan  entire home/apt   6169\n",
              "7       Manhattan     private room   3895\n",
              "8       Manhattan      shared room    251\n",
              "9          Queens  entire home/apt   1335\n",
              "10         Queens     private room   2008\n",
              "11         Queens      shared room    112\n",
              "12  Staten Island  entire home/apt    133\n",
              "13  Staten Island     private room    132\n",
              "14  Staten Island      shared room      2"
            ],
            "text/html": [
              "\n",
              "  <div id=\"df-9d065d1b-721a-4cb3-bfeb-53c603da8aaa\">\n",
              "    <div class=\"colab-df-container\">\n",
              "      <div>\n",
              "<style scoped>\n",
              "    .dataframe tbody tr th:only-of-type {\n",
              "        vertical-align: middle;\n",
              "    }\n",
              "\n",
              "    .dataframe tbody tr th {\n",
              "        vertical-align: top;\n",
              "    }\n",
              "\n",
              "    .dataframe thead th {\n",
              "        text-align: right;\n",
              "    }\n",
              "</style>\n",
              "<table border=\"1\" class=\"dataframe\">\n",
              "  <thead>\n",
              "    <tr style=\"text-align: right;\">\n",
              "      <th></th>\n",
              "      <th>city</th>\n",
              "      <th>room_type</th>\n",
              "      <th>count</th>\n",
              "    </tr>\n",
              "  </thead>\n",
              "  <tbody>\n",
              "    <tr>\n",
              "      <th>0</th>\n",
              "      <td>Bronx</td>\n",
              "      <td>entire home/apt</td>\n",
              "      <td>260</td>\n",
              "    </tr>\n",
              "    <tr>\n",
              "      <th>1</th>\n",
              "      <td>Bronx</td>\n",
              "      <td>private room</td>\n",
              "      <td>404</td>\n",
              "    </tr>\n",
              "    <tr>\n",
              "      <th>2</th>\n",
              "      <td>Bronx</td>\n",
              "      <td>shared room</td>\n",
              "      <td>33</td>\n",
              "    </tr>\n",
              "    <tr>\n",
              "      <th>3</th>\n",
              "      <td>Brooklyn</td>\n",
              "      <td>entire home/apt</td>\n",
              "      <td>5365</td>\n",
              "    </tr>\n",
              "    <tr>\n",
              "      <th>4</th>\n",
              "      <td>Brooklyn</td>\n",
              "      <td>private room</td>\n",
              "      <td>4903</td>\n",
              "    </tr>\n",
              "    <tr>\n",
              "      <th>5</th>\n",
              "      <td>Brooklyn</td>\n",
              "      <td>shared room</td>\n",
              "      <td>189</td>\n",
              "    </tr>\n",
              "    <tr>\n",
              "      <th>6</th>\n",
              "      <td>Manhattan</td>\n",
              "      <td>entire home/apt</td>\n",
              "      <td>6169</td>\n",
              "    </tr>\n",
              "    <tr>\n",
              "      <th>7</th>\n",
              "      <td>Manhattan</td>\n",
              "      <td>private room</td>\n",
              "      <td>3895</td>\n",
              "    </tr>\n",
              "    <tr>\n",
              "      <th>8</th>\n",
              "      <td>Manhattan</td>\n",
              "      <td>shared room</td>\n",
              "      <td>251</td>\n",
              "    </tr>\n",
              "    <tr>\n",
              "      <th>9</th>\n",
              "      <td>Queens</td>\n",
              "      <td>entire home/apt</td>\n",
              "      <td>1335</td>\n",
              "    </tr>\n",
              "    <tr>\n",
              "      <th>10</th>\n",
              "      <td>Queens</td>\n",
              "      <td>private room</td>\n",
              "      <td>2008</td>\n",
              "    </tr>\n",
              "    <tr>\n",
              "      <th>11</th>\n",
              "      <td>Queens</td>\n",
              "      <td>shared room</td>\n",
              "      <td>112</td>\n",
              "    </tr>\n",
              "    <tr>\n",
              "      <th>12</th>\n",
              "      <td>Staten Island</td>\n",
              "      <td>entire home/apt</td>\n",
              "      <td>133</td>\n",
              "    </tr>\n",
              "    <tr>\n",
              "      <th>13</th>\n",
              "      <td>Staten Island</td>\n",
              "      <td>private room</td>\n",
              "      <td>132</td>\n",
              "    </tr>\n",
              "    <tr>\n",
              "      <th>14</th>\n",
              "      <td>Staten Island</td>\n",
              "      <td>shared room</td>\n",
              "      <td>2</td>\n",
              "    </tr>\n",
              "  </tbody>\n",
              "</table>\n",
              "</div>\n",
              "      <button class=\"colab-df-convert\" onclick=\"convertToInteractive('df-9d065d1b-721a-4cb3-bfeb-53c603da8aaa')\"\n",
              "              title=\"Convert this dataframe to an interactive table.\"\n",
              "              style=\"display:none;\">\n",
              "        \n",
              "  <svg xmlns=\"http://www.w3.org/2000/svg\" height=\"24px\"viewBox=\"0 0 24 24\"\n",
              "       width=\"24px\">\n",
              "    <path d=\"M0 0h24v24H0V0z\" fill=\"none\"/>\n",
              "    <path d=\"M18.56 5.44l.94 2.06.94-2.06 2.06-.94-2.06-.94-.94-2.06-.94 2.06-2.06.94zm-11 1L8.5 8.5l.94-2.06 2.06-.94-2.06-.94L8.5 2.5l-.94 2.06-2.06.94zm10 10l.94 2.06.94-2.06 2.06-.94-2.06-.94-.94-2.06-.94 2.06-2.06.94z\"/><path d=\"M17.41 7.96l-1.37-1.37c-.4-.4-.92-.59-1.43-.59-.52 0-1.04.2-1.43.59L10.3 9.45l-7.72 7.72c-.78.78-.78 2.05 0 2.83L4 21.41c.39.39.9.59 1.41.59.51 0 1.02-.2 1.41-.59l7.78-7.78 2.81-2.81c.8-.78.8-2.07 0-2.86zM5.41 20L4 18.59l7.72-7.72 1.47 1.35L5.41 20z\"/>\n",
              "  </svg>\n",
              "      </button>\n",
              "      \n",
              "  <style>\n",
              "    .colab-df-container {\n",
              "      display:flex;\n",
              "      flex-wrap:wrap;\n",
              "      gap: 12px;\n",
              "    }\n",
              "\n",
              "    .colab-df-convert {\n",
              "      background-color: #E8F0FE;\n",
              "      border: none;\n",
              "      border-radius: 50%;\n",
              "      cursor: pointer;\n",
              "      display: none;\n",
              "      fill: #1967D2;\n",
              "      height: 32px;\n",
              "      padding: 0 0 0 0;\n",
              "      width: 32px;\n",
              "    }\n",
              "\n",
              "    .colab-df-convert:hover {\n",
              "      background-color: #E2EBFA;\n",
              "      box-shadow: 0px 1px 2px rgba(60, 64, 67, 0.3), 0px 1px 3px 1px rgba(60, 64, 67, 0.15);\n",
              "      fill: #174EA6;\n",
              "    }\n",
              "\n",
              "    [theme=dark] .colab-df-convert {\n",
              "      background-color: #3B4455;\n",
              "      fill: #D2E3FC;\n",
              "    }\n",
              "\n",
              "    [theme=dark] .colab-df-convert:hover {\n",
              "      background-color: #434B5C;\n",
              "      box-shadow: 0px 1px 3px 1px rgba(0, 0, 0, 0.15);\n",
              "      filter: drop-shadow(0px 1px 2px rgba(0, 0, 0, 0.3));\n",
              "      fill: #FFFFFF;\n",
              "    }\n",
              "  </style>\n",
              "\n",
              "      <script>\n",
              "        const buttonEl =\n",
              "          document.querySelector('#df-9d065d1b-721a-4cb3-bfeb-53c603da8aaa button.colab-df-convert');\n",
              "        buttonEl.style.display =\n",
              "          google.colab.kernel.accessAllowed ? 'block' : 'none';\n",
              "\n",
              "        async function convertToInteractive(key) {\n",
              "          const element = document.querySelector('#df-9d065d1b-721a-4cb3-bfeb-53c603da8aaa');\n",
              "          const dataTable =\n",
              "            await google.colab.kernel.invokeFunction('convertToInteractive',\n",
              "                                                     [key], {});\n",
              "          if (!dataTable) return;\n",
              "\n",
              "          const docLinkHtml = 'Like what you see? Visit the ' +\n",
              "            '<a target=\"_blank\" href=https://colab.research.google.com/notebooks/data_table.ipynb>data table notebook</a>'\n",
              "            + ' to learn more about interactive tables.';\n",
              "          element.innerHTML = '';\n",
              "          dataTable['output_type'] = 'display_data';\n",
              "          await google.colab.output.renderOutput(dataTable, element);\n",
              "          const docLink = document.createElement('div');\n",
              "          docLink.innerHTML = docLinkHtml;\n",
              "          element.appendChild(docLink);\n",
              "        }\n",
              "      </script>\n",
              "    </div>\n",
              "  </div>\n",
              "  "
            ]
          },
          "metadata": {},
          "execution_count": 120
        }
      ]
    },
    {
      "cell_type": "code",
      "source": [
        "plt.figure(figsize=(10, 5))\n",
        "sns.barplot(data=city, x=\"city\", y=\"count\", hue=\"room_type\",errwidth=0)"
      ],
      "metadata": {
        "colab": {
          "base_uri": "https://localhost:8080/",
          "height": 351
        },
        "id": "-TrsUVyNWcQE",
        "outputId": "a6f780d5-a13c-4a5e-a680-0c6ae3554026"
      },
      "execution_count": 121,
      "outputs": [
        {
          "output_type": "execute_result",
          "data": {
            "text/plain": [
              "<matplotlib.axes._subplots.AxesSubplot at 0x7f1405f5cfa0>"
            ]
          },
          "metadata": {},
          "execution_count": 121
        },
        {
          "output_type": "display_data",
          "data": {
            "text/plain": [
              "<Figure size 720x360 with 1 Axes>"
            ],
            "image/png": "[encoded data removed]"
          },
          "metadata": {
            "needs_background": "light"
          }
        }
      ]
    },
    {
      "cell_type": "markdown",
      "source": [
        "**เปรียบเทียบราคาที่พักโดยเฉลี่ย Airbnb ระหว่าง 5 เมืองในนิวยอร์ค**"
      ],
      "metadata": {
        "id": "shFZFhT0VXBj"
      }
    },
    {
      "cell_type": "code",
      "source": [
        "price = df[['city','room_type','price']].copy()\n",
        "price = price.groupby(['city', 'room_type']).agg('mean').reset_index()\n",
        "price"
      ],
      "metadata": {
        "colab": {
          "base_uri": "https://localhost:8080/",
          "height": 519
        },
        "id": "wlrjc0HiVCIG",
        "outputId": "f5edd1e0-e520-47bb-a1f1-5eebf9813557"
      },
      "execution_count": 117,
      "outputs": [
        {
          "output_type": "execute_result",
          "data": {
            "text/plain": [
              "             city        room_type       price\n",
              "0           Bronx  entire home/apt  120.692308\n",
              "1           Bronx     private room   56.504498\n",
              "2           Bronx      shared room   33.030303\n",
              "3        Brooklyn  entire home/apt  169.932526\n",
              "4        Brooklyn     private room   72.763057\n",
              "5        Brooklyn      shared room   40.506000\n",
              "6       Manhattan  entire home/apt  238.027395\n",
              "7       Manhattan     private room  105.702953\n",
              "8       Manhattan      shared room   72.960159\n",
              "9          Queens  entire home/apt  140.931086\n",
              "10         Queens     private room   63.748008\n",
              "11         Queens      shared room   40.767857\n",
              "12  Staten Island  entire home/apt  116.774436\n",
              "13  Staten Island     private room   56.060606\n",
              "14  Staten Island      shared room   21.500000"
            ],
            "text/html": [
              "\n",
              "  <div id=\"df-c04c8c2c-52cc-4aaf-b3dc-f68e1e25ff8f\">\n",
              "    <div class=\"colab-df-container\">\n",
              "      <div>\n",
              "<style scoped>\n",
              "    .dataframe tbody tr th:only-of-type {\n",
              "        vertical-align: middle;\n",
              "    }\n",
              "\n",
              "    .dataframe tbody tr th {\n",
              "        vertical-align: top;\n",
              "    }\n",
              "\n",
              "    .dataframe thead th {\n",
              "        text-align: right;\n",
              "    }\n",
              "</style>\n",
              "<table border=\"1\" class=\"dataframe\">\n",
              "  <thead>\n",
              "    <tr style=\"text-align: right;\">\n",
              "      <th></th>\n",
              "      <th>city</th>\n",
              "      <th>room_type</th>\n",
              "      <th>price</th>\n",
              "    </tr>\n",
              "  </thead>\n",
              "  <tbody>\n",
              "    <tr>\n",
              "      <th>0</th>\n",
              "      <td>Bronx</td>\n",
              "      <td>entire home/apt</td>\n",
              "      <td>120.692308</td>\n",
              "    </tr>\n",
              "    <tr>\n",
              "      <th>1</th>\n",
              "      <td>Bronx</td>\n",
              "      <td>private room</td>\n",
              "      <td>56.504498</td>\n",
              "    </tr>\n",
              "    <tr>\n",
              "      <th>2</th>\n",
              "      <td>Bronx</td>\n",
              "      <td>shared room</td>\n",
              "      <td>33.030303</td>\n",
              "    </tr>\n",
              "    <tr>\n",
              "      <th>3</th>\n",
              "      <td>Brooklyn</td>\n",
              "      <td>entire home/apt</td>\n",
              "      <td>169.932526</td>\n",
              "    </tr>\n",
              "    <tr>\n",
              "      <th>4</th>\n",
              "      <td>Brooklyn</td>\n",
              "      <td>private room</td>\n",
              "      <td>72.763057</td>\n",
              "    </tr>\n",
              "    <tr>\n",
              "      <th>5</th>\n",
              "      <td>Brooklyn</td>\n",
              "      <td>shared room</td>\n",
              "      <td>40.506000</td>\n",
              "    </tr>\n",
              "    <tr>\n",
              "      <th>6</th>\n",
              "      <td>Manhattan</td>\n",
              "      <td>entire home/apt</td>\n",
              "      <td>238.027395</td>\n",
              "    </tr>\n",
              "    <tr>\n",
              "      <th>7</th>\n",
              "      <td>Manhattan</td>\n",
              "      <td>private room</td>\n",
              "      <td>105.702953</td>\n",
              "    </tr>\n",
              "    <tr>\n",
              "      <th>8</th>\n",
              "      <td>Manhattan</td>\n",
              "      <td>shared room</td>\n",
              "      <td>72.960159</td>\n",
              "    </tr>\n",
              "    <tr>\n",
              "      <th>9</th>\n",
              "      <td>Queens</td>\n",
              "      <td>entire home/apt</td>\n",
              "      <td>140.931086</td>\n",
              "    </tr>\n",
              "    <tr>\n",
              "      <th>10</th>\n",
              "      <td>Queens</td>\n",
              "      <td>private room</td>\n",
              "      <td>63.748008</td>\n",
              "    </tr>\n",
              "    <tr>\n",
              "      <th>11</th>\n",
              "      <td>Queens</td>\n",
              "      <td>shared room</td>\n",
              "      <td>40.767857</td>\n",
              "    </tr>\n",
              "    <tr>\n",
              "      <th>12</th>\n",
              "      <td>Staten Island</td>\n",
              "      <td>entire home/apt</td>\n",
              "      <td>116.774436</td>\n",
              "    </tr>\n",
              "    <tr>\n",
              "      <th>13</th>\n",
              "      <td>Staten Island</td>\n",
              "      <td>private room</td>\n",
              "      <td>56.060606</td>\n",
              "    </tr>\n",
              "    <tr>\n",
              "      <th>14</th>\n",
              "      <td>Staten Island</td>\n",
              "      <td>shared room</td>\n",
              "      <td>21.500000</td>\n",
              "    </tr>\n",
              "  </tbody>\n",
              "</table>\n",
              "</div>\n",
              "      <button class=\"colab-df-convert\" onclick=\"convertToInteractive('df-c04c8c2c-52cc-4aaf-b3dc-f68e1e25ff8f')\"\n",
              "              title=\"Convert this dataframe to an interactive table.\"\n",
              "              style=\"display:none;\">\n",
              "        \n",
              "  <svg xmlns=\"http://www.w3.org/2000/svg\" height=\"24px\"viewBox=\"0 0 24 24\"\n",
              "       width=\"24px\">\n",
              "    <path d=\"M0 0h24v24H0V0z\" fill=\"none\"/>\n",
              "    <path d=\"M18.56 5.44l.94 2.06.94-2.06 2.06-.94-2.06-.94-.94-2.06-.94 2.06-2.06.94zm-11 1L8.5 8.5l.94-2.06 2.06-.94-2.06-.94L8.5 2.5l-.94 2.06-2.06.94zm10 10l.94 2.06.94-2.06 2.06-.94-2.06-.94-.94-2.06-.94 2.06-2.06.94z\"/><path d=\"M17.41 7.96l-1.37-1.37c-.4-.4-.92-.59-1.43-.59-.52 0-1.04.2-1.43.59L10.3 9.45l-7.72 7.72c-.78.78-.78 2.05 0 2.83L4 21.41c.39.39.9.59 1.41.59.51 0 1.02-.2 1.41-.59l7.78-7.78 2.81-2.81c.8-.78.8-2.07 0-2.86zM5.41 20L4 18.59l7.72-7.72 1.47 1.35L5.41 20z\"/>\n",
              "  </svg>\n",
              "      </button>\n",
              "      \n",
              "  <style>\n",
              "    .colab-df-container {\n",
              "      display:flex;\n",
              "      flex-wrap:wrap;\n",
              "      gap: 12px;\n",
              "    }\n",
              "\n",
              "    .colab-df-convert {\n",
              "      background-color: #E8F0FE;\n",
              "      border: none;\n",
              "      border-radius: 50%;\n",
              "      cursor: pointer;\n",
              "      display: none;\n",
              "      fill: #1967D2;\n",
              "      height: 32px;\n",
              "      padding: 0 0 0 0;\n",
              "      width: 32px;\n",
              "    }\n",
              "\n",
              "    .colab-df-convert:hover {\n",
              "      background-color: #E2EBFA;\n",
              "      box-shadow: 0px 1px 2px rgba(60, 64, 67, 0.3), 0px 1px 3px 1px rgba(60, 64, 67, 0.15);\n",
              "      fill: #174EA6;\n",
              "    }\n",
              "\n",
              "    [theme=dark] .colab-df-convert {\n",
              "      background-color: #3B4455;\n",
              "      fill: #D2E3FC;\n",
              "    }\n",
              "\n",
              "    [theme=dark] .colab-df-convert:hover {\n",
              "      background-color: #434B5C;\n",
              "      box-shadow: 0px 1px 3px 1px rgba(0, 0, 0, 0.15);\n",
              "      filter: drop-shadow(0px 1px 2px rgba(0, 0, 0, 0.3));\n",
              "      fill: #FFFFFF;\n",
              "    }\n",
              "  </style>\n",
              "\n",
              "      <script>\n",
              "        const buttonEl =\n",
              "          document.querySelector('#df-c04c8c2c-52cc-4aaf-b3dc-f68e1e25ff8f button.colab-df-convert');\n",
              "        buttonEl.style.display =\n",
              "          google.colab.kernel.accessAllowed ? 'block' : 'none';\n",
              "\n",
              "        async function convertToInteractive(key) {\n",
              "          const element = document.querySelector('#df-c04c8c2c-52cc-4aaf-b3dc-f68e1e25ff8f');\n",
              "          const dataTable =\n",
              "            await google.colab.kernel.invokeFunction('convertToInteractive',\n",
              "                                                     [key], {});\n",
              "          if (!dataTable) return;\n",
              "\n",
              "          const docLinkHtml = 'Like what you see? Visit the ' +\n",
              "            '<a target=\"_blank\" href=https://colab.research.google.com/notebooks/data_table.ipynb>data table notebook</a>'\n",
              "            + ' to learn more about interactive tables.';\n",
              "          element.innerHTML = '';\n",
              "          dataTable['output_type'] = 'display_data';\n",
              "          await google.colab.output.renderOutput(dataTable, element);\n",
              "          const docLink = document.createElement('div');\n",
              "          docLink.innerHTML = docLinkHtml;\n",
              "          element.appendChild(docLink);\n",
              "        }\n",
              "      </script>\n",
              "    </div>\n",
              "  </div>\n",
              "  "
            ]
          },
          "metadata": {},
          "execution_count": 117
        }
      ]
    },
    {
      "cell_type": "code",
      "source": [
        "plt.figure(figsize=(10, 5))\n",
        "sns.barplot(data=price, x=\"city\", y=\"price\", hue=\"room_type\",errwidth=0)"
      ],
      "metadata": {
        "colab": {
          "base_uri": "https://localhost:8080/",
          "height": 351
        },
        "id": "NtzUZo0JVst4",
        "outputId": "d2b99421-cac3-4c80-d19d-cd5f5aa7a862"
      },
      "execution_count": 119,
      "outputs": [
        {
          "output_type": "execute_result",
          "data": {
            "text/plain": [
              "<matplotlib.axes._subplots.AxesSubplot at 0x7f14060205e0>"
            ]
          },
          "metadata": {},
          "execution_count": 119
        },
        {
          "output_type": "display_data",
          "data": {
            "text/plain": [
              "<Figure size 720x360 with 1 Axes>"
            ],
            "image/png": "[encoded data removed]"
          },
          "metadata": {
            "needs_background": "light"
          }
        }
      ]
    }
  ]
}